{
 "cells": [
  {
   "cell_type": "code",
   "execution_count": 1,
   "metadata": {},
   "outputs": [],
   "source": [
    "import pandas as pd\n",
    "\n",
    "from sklearn.svm import LinearSVC, SVC\n",
    "from sklearn.model_selection import cross_validate, cross_val_predict, cross_val_score\n",
    "\n",
    "from sklearn.pipeline import Pipeline\n",
    "from sklearn.preprocessing import StandardScaler, RobustScaler, MinMaxScaler, Normalizer\n",
    "\n",
    "import sys\n",
    "sys.path.insert(0, '../System')\n",
    "\n",
    "from classify import get_feature_table, get_feature_groups, train_classify\n",
    "\n",
    "import pickle"
   ]
  },
  {
   "cell_type": "code",
   "execution_count": 2,
   "metadata": {},
   "outputs": [],
   "source": [
    "# open a file, where you stored the pickled data\n",
    "with open(\"../System/clfs/grid_svc.sav\", 'rb') as file:\n",
    "    grid_clf = pickle.load(file)\n",
    "    \n",
    "with open(\"../System/clfs/standard_linear_svc.sav\", 'rb') as file:\n",
    "    stan_clf = pickle.load(file)\n",
    "\n",
    "pipeline = Pipeline([\n",
    "            # ('normalizer', MinMaxScaler(feature_range=(0, 1))),           # Step1 - normalize data\n",
    "            # ('normalizer', RobustScaler(quantile_range=(25, 75))),        # Step1 - normalize data\n",
    "            ('normalizer', StandardScaler()),                              # Step1 - normalize data\n",
    "            ('clf', stan_clf)  # Step2 - classifier                                       # Step2 - classifier\n",
    "            ])"
   ]
  },
  {
   "cell_type": "code",
   "execution_count": 3,
   "metadata": {},
   "outputs": [],
   "source": [
    "feats = pd.read_csv(\"../System/feats_train.csv\")\n",
    "labels = feats[\"class\"]\n",
    "feats.drop('class', axis=1, inplace=True)"
   ]
  },
  {
   "cell_type": "code",
   "execution_count": 4,
   "metadata": {},
   "outputs": [
    {
     "data": {
      "text/plain": [
       "{'fit_time': array([0.04829073, 0.06598258, 0.03093076, 0.03601027, 0.03440928,\n",
       "        0.03092527, 0.03231716, 0.03727651, 0.05417919, 0.02736974]),\n",
       " 'score_time': array([0.00290418, 0.00214362, 0.00202727, 0.00284362, 0.00962186,\n",
       "        0.00211668, 0.00212407, 0.00203872, 0.00201964, 0.00253892]),\n",
       " 'test_precision_macro': array([0.8880597 , 1.        , 1.        , 1.        , 1.        ,\n",
       "        1.        , 1.        , 1.        , 0.94067797, 0.86956522]),\n",
       " 'train_precision_macro': array([1.        , 0.99893162, 0.99893162, 0.99893162, 0.99893162,\n",
       "        0.99893162, 0.99893162, 0.99893162, 0.9978678 , 1.        ]),\n",
       " 'test_recall_macro': array([0.85576923, 1.        , 1.        , 1.        , 1.        ,\n",
       "        1.        , 1.        , 1.        , 0.93269231, 0.82352941]),\n",
       " 'train_recall_macro': array([1.        , 0.99892934, 0.99892934, 0.99892934, 0.99892934,\n",
       "        0.99892934, 0.99892934, 0.99892934, 0.99785867, 1.        ])}"
      ]
     },
     "execution_count": 4,
     "metadata": {},
     "output_type": "execute_result"
    }
   ],
   "source": [
    "scoring = ['precision_macro', 'recall_macro']\n",
    "scores = cross_validate(pipeline, feats, labels, scoring=scoring, cv=10)\n",
    "scores"
   ]
  },
  {
   "cell_type": "code",
   "execution_count": 5,
   "metadata": {},
   "outputs": [
    {
     "name": "stdout",
     "output_type": "stream",
     "text": [
      "Precision: 0.6757275429872434\n",
      "Recall: 0.7186897880539499\n",
      "Accuracy: 0.7360308285163777\n",
      "F1-Score: 0.7313725490196079\n"
     ]
    }
   ],
   "source": [
    "predictions = train_classify(['feats'], stan_clf)"
   ]
  },
  {
   "cell_type": "code",
   "execution_count": 6,
   "metadata": {},
   "outputs": [
    {
     "name": "stdout",
     "output_type": "stream",
     "text": [
      "Precision: 0.6770990306110974\n",
      "Recall: 0.7341040462427746\n",
      "Accuracy: 0.7389210019267822\n",
      "F1-Score: 0.7376573088092934\n"
     ]
    }
   ],
   "source": [
    "predictions = train_classify(['feats'], grid_clf)"
   ]
  },
  {
   "cell_type": "code",
   "execution_count": 7,
   "metadata": {},
   "outputs": [
    {
     "data": {
      "text/plain": [
       "SVC(C=0.01, cache_size=200, class_weight=None, coef0=0.0,\n",
       "  decision_function_shape='ovr', degree=3, gamma=0.001, kernel='linear',\n",
       "  max_iter=-1, probability=False, random_state=None, shrinking=True,\n",
       "  tol=0.001, verbose=False)"
      ]
     },
     "execution_count": 7,
     "metadata": {},
     "output_type": "execute_result"
    }
   ],
   "source": [
    "grid_clf"
   ]
  },
  {
   "cell_type": "code",
   "execution_count": 8,
   "metadata": {},
   "outputs": [
    {
     "data": {
      "text/plain": [
       "SVC(C=3.698481284123085, cache_size=200, class_weight=None, coef0=0.0,\n",
       "  decision_function_shape='ovr', degree=3, gamma=0.20300389999423507,\n",
       "  kernel='linear', max_iter=-1, probability=False, random_state=None,\n",
       "  shrinking=True, tol=0.001, verbose=False)"
      ]
     },
     "execution_count": 8,
     "metadata": {},
     "output_type": "execute_result"
    }
   ],
   "source": [
    "stan_clf"
   ]
  },
  {
   "cell_type": "code",
   "execution_count": 9,
   "metadata": {},
   "outputs": [
    {
     "data": {
      "text/plain": [
       "SVC(C=1.0, cache_size=200, class_weight=None, coef0=0.0,\n",
       "  decision_function_shape='ovr', degree=3, gamma='auto', kernel='linear',\n",
       "  max_iter=-1, probability=False, random_state=None, shrinking=True,\n",
       "  tol=0.001, verbose=False)"
      ]
     },
     "execution_count": 9,
     "metadata": {},
     "output_type": "execute_result"
    }
   ],
   "source": [
    "SVC(kernel='linear')"
   ]
  }
 ],
 "metadata": {
  "kernelspec": {
   "display_name": "Python 3",
   "language": "python",
   "name": "python3"
  },
  "language_info": {
   "codemirror_mode": {
    "name": "ipython",
    "version": 3
   },
   "file_extension": ".py",
   "mimetype": "text/x-python",
   "name": "python",
   "nbconvert_exporter": "python",
   "pygments_lexer": "ipython3",
   "version": "3.6.5"
  }
 },
 "nbformat": 4,
 "nbformat_minor": 2
}
