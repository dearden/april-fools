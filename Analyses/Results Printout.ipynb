{
 "cells": [
  {
   "cell_type": "code",
   "execution_count": 3,
   "metadata": {},
   "outputs": [],
   "source": [
    "import pandas as pd\n",
    "import numpy as np\n",
    "import matplotlib.pyplot as plt\n",
    "import matplotlib\n",
    "\n",
    "from sklearn.svm import LinearSVC\n",
    "from sklearn.linear_model import LogisticRegression\n",
    "from sklearn.model_selection import cross_validate\n",
    "from sklearn.pipeline import Pipeline\n",
    "from sklearn.preprocessing import StandardScaler\n",
    "from sklearn import metrics\n",
    "\n",
    "import sys\n",
    "# sys.path.insert(0, '../System')\n",
    "\n",
    "# from classify import get_feature_table, get_feature_groups, train_classify, group_classify, train_model, test_model\n",
    "# from classify import create_classification_table, create_crossval_table, create_fake_crossval_table\n",
    "\n",
    "import pickle\n",
    "\n",
    "CLF = LogisticRegression()"
   ]
  },
  {
   "cell_type": "markdown",
   "metadata": {},
   "source": [
    "Load in the tuned classifier"
   ]
  },
  {
   "cell_type": "code",
   "execution_count": null,
   "metadata": {},
   "outputs": [],
   "source": [
    "with open(\"../System/clfs/standard_linear_svc.sav\", 'rb') as file:\n",
    "    tuned_clf = pickle.load(file)"
   ]
  },
  {
   "cell_type": "markdown",
   "metadata": {},
   "source": [
    "Cross Val Score (tuned)"
   ]
  },
  {
   "cell_type": "code",
   "execution_count": null,
   "metadata": {},
   "outputs": [],
   "source": [
    "cv_tuned = train_classify(['feats'], tuned_clf)"
   ]
  },
  {
   "cell_type": "markdown",
   "metadata": {},
   "source": [
    "CV Score (untuned)"
   ]
  },
  {
   "cell_type": "code",
   "execution_count": null,
   "metadata": {},
   "outputs": [],
   "source": [
    "cv_untuned = train_classify(['feats'], CLF)"
   ]
  },
  {
   "cell_type": "markdown",
   "metadata": {},
   "source": [
    "Confusion Matrix"
   ]
  },
  {
   "cell_type": "code",
   "execution_count": null,
   "metadata": {},
   "outputs": [],
   "source": [
    "conf = train_classify(['feats'], CLF, confusion=True)"
   ]
  },
  {
   "cell_type": "markdown",
   "metadata": {},
   "source": [
    "Group Scores"
   ]
  },
  {
   "cell_type": "code",
   "execution_count": null,
   "metadata": {},
   "outputs": [],
   "source": [
    "group_scores = group_classify(CLF)\n",
    "group_scores"
   ]
  },
  {
   "cell_type": "code",
   "execution_count": null,
   "metadata": {},
   "outputs": [],
   "source": [
    "print(group_scores.round(3).to_latex())"
   ]
  },
  {
   "cell_type": "markdown",
   "metadata": {},
   "source": [
    "Performance of just Complexity & Detail Features"
   ]
  },
  {
   "cell_type": "code",
   "execution_count": null,
   "metadata": {},
   "outputs": [],
   "source": [
    "complex_detail = train_classify(['feats'], CLF, groups=['complexity', 'details'])"
   ]
  },
  {
   "cell_type": "markdown",
   "metadata": {},
   "source": [
    "Cross val score of feats for fake news"
   ]
  },
  {
   "cell_type": "code",
   "execution_count": null,
   "metadata": {
    "scrolled": true
   },
   "outputs": [],
   "source": [
    "cv_fake = train_classify(['fake_news_feats'], CLF, confusion=True)"
   ]
  },
  {
   "cell_type": "code",
   "execution_count": null,
   "metadata": {},
   "outputs": [],
   "source": [
    "complex_detail = train_classify(['fake_news_feats'], CLF, groups=['complexity', 'details'])"
   ]
  },
  {
   "cell_type": "markdown",
   "metadata": {},
   "source": [
    "Train on April Fools and test on Fake News with hoax set"
   ]
  },
  {
   "cell_type": "code",
   "execution_count": null,
   "metadata": {},
   "outputs": [],
   "source": [
    "af_trained_model = train_model(['feats'], CLF)\n",
    "af_fake = test_model(['fake_news_feats'], af_trained_model)"
   ]
  },
  {
   "cell_type": "markdown",
   "metadata": {},
   "source": [
    "Cross val score of BoW for fake news"
   ]
  },
  {
   "cell_type": "code",
   "execution_count": null,
   "metadata": {},
   "outputs": [],
   "source": [
    "cv_fake = train_classify(['fake_news_bow'], CLF, confusion=True)"
   ]
  },
  {
   "cell_type": "markdown",
   "metadata": {},
   "source": [
    "Train on AF and test on FN with BoW"
   ]
  },
  {
   "cell_type": "code",
   "execution_count": null,
   "metadata": {},
   "outputs": [],
   "source": [
    "af_trained_model = train_model(['bow'], CLF)\n",
    "af_fake = test_model(['fake_news_bow'], af_trained_model)"
   ]
  },
  {
   "cell_type": "markdown",
   "metadata": {},
   "source": [
    "Train on AF and test on FN with BoPoS"
   ]
  },
  {
   "cell_type": "code",
   "execution_count": null,
   "metadata": {},
   "outputs": [],
   "source": [
    "af_trained_model = train_model(['bop'], CLF)\n",
    "af_fake = test_model(['fake_news_bop'], af_trained_model)"
   ]
  },
  {
   "cell_type": "code",
   "execution_count": null,
   "metadata": {
    "scrolled": true
   },
   "outputs": [],
   "source": [
    "print(\"\\nBag-of-PoS\\n---------------\")\n",
    "train_classify(['bop'], CLF, confusion=True)\n",
    "print(\"\\nFeats\\n---------------\")\n",
    "train_classify(['feats'], CLF, confusion=True)\n",
    "print(\"\\nFunction Words\\n---------------\")\n",
    "train_classify(['function_words'], CLF, confusion=True)\n",
    "print(\"\\nBag-of-PoS + Function Words\\n---------------\")\n",
    "train_classify(['bop', 'function_words'], CLF, confusion=True)\n"
   ]
  },
  {
   "cell_type": "markdown",
   "metadata": {},
   "source": [
    "Get Results Table"
   ]
  },
  {
   "cell_type": "code",
   "execution_count": null,
   "metadata": {},
   "outputs": [],
   "source": [
    "crossval_table = create_crossval_table(classifier=CLF)"
   ]
  },
  {
   "cell_type": "code",
   "execution_count": null,
   "metadata": {},
   "outputs": [],
   "source": [
    "crossval_table = crossval_table.round(3)"
   ]
  },
  {
   "cell_type": "code",
   "execution_count": null,
   "metadata": {},
   "outputs": [],
   "source": [
    "print(crossval_table.loc[:, crossval_table.columns != 'accuracy'].to_latex())"
   ]
  },
  {
   "cell_type": "code",
   "execution_count": null,
   "metadata": {},
   "outputs": [],
   "source": [
    "fake_results = create_fake_crossval_table(classifier=LogisticRegression()).round(3)\n",
    "print(fake_results.loc[:, fake_results.columns != 'accuracy'].to_latex())"
   ]
  },
  {
   "cell_type": "markdown",
   "metadata": {},
   "source": [
    "Make Cross Val Table for Paper"
   ]
  },
  {
   "cell_type": "code",
   "execution_count": null,
   "metadata": {},
   "outputs": [],
   "source": [
    "accs_af = crossval_table.loc[:, crossval_table.columns == 'accuracy']\n",
    "accs_af.columns = [\"April Fools\"]\n",
    "\n",
    "accs_af = accs_af.drop(['top_6', 'all', 'bow', 'bow + feats', 'bop', 'function_words'])\n",
    "accs_af.index = ['Complexity', 'Deception', 'Details', 'Formality', 'Humour', 'Imagination',\n",
    "                'Vagueness', 'Hoax Set', 'Complex-Detail', 'Selection', 'PoS + Func Words']\n",
    "accs_af"
   ]
  },
  {
   "cell_type": "code",
   "execution_count": null,
   "metadata": {},
   "outputs": [],
   "source": [
    "accs_fake = fake_results.loc[:, fake_results.columns == 'accuracy']\n",
    "accs_fake.columns = ['Fake News']\n",
    "\n",
    "accs_fake = accs_fake.drop(['top_6','fake_news_bow', 'bow + feats', 'fake_news_bop', 'fake_news_function_words'])\n",
    "accs_fake.index = ['Complexity', 'Deception', 'Details', 'Formality', 'Humour', 'Imagination',\n",
    "                'Vagueness', 'Hoax Set', 'Complex-Detail', 'Selection', 'PoS + Func Words']\n",
    "\n",
    "accs_fake"
   ]
  },
  {
   "cell_type": "code",
   "execution_count": null,
   "metadata": {},
   "outputs": [],
   "source": [
    "print(pd.concat([accs_af, accs_fake], axis=1).to_latex())"
   ]
  },
  {
   "cell_type": "markdown",
   "metadata": {},
   "source": [
    "Make the cross validation chart!"
   ]
  },
  {
   "cell_type": "code",
   "execution_count": 4,
   "metadata": {},
   "outputs": [],
   "source": [
    "pipeline = Pipeline([\n",
    "            ('normalizer', StandardScaler()),           # Step1 - normalize data\n",
    "            ('clf', LogisticRegression())               # Step2 - classifier\n",
    "            ])\n",
    "\n",
    "scoring = ['accuracy']"
   ]
  },
  {
   "cell_type": "code",
   "execution_count": 5,
   "metadata": {},
   "outputs": [],
   "source": [
    "feats = pd.read_csv(\"../System/feats_train.csv\")\n",
    "feats.set_index('index', inplace=True)\n",
    "af_labels = feats[\"class\"]\n",
    "feats.drop('class', axis=1, inplace=True)\n",
    "\n",
    "bow = pd.read_csv(\"../System/bow_train.csv\")\n",
    "bow.set_index('index', inplace=True)\n",
    "bow.drop('class', axis=1, inplace=True)\n",
    "\n",
    "bop = pd.read_csv(\"../System/bop_train.csv\")\n",
    "bop.set_index('index', inplace=True)\n",
    "bop.drop('class', axis=1, inplace=True)\n",
    "\n",
    "fun = pd.read_csv(\"../System/function_words_train.csv\")\n",
    "fun.set_index('index', inplace=True)\n",
    "fun.drop('class', axis=1, inplace=True)\n",
    "\n",
    "fakes = pd.read_csv(\"../System/fake_news_feats_train.csv\")\n",
    "fakes.set_index('index', inplace=True)\n",
    "fake_labels = fakes[\"class\"]\n",
    "fakes.drop('class', axis=1, inplace=True)\n",
    "\n",
    "fake_bow = pd.read_csv(\"../System/fake_news_bow_train.csv\")\n",
    "fake_bow.set_index('index', inplace=True)\n",
    "fake_bow.drop('class', axis=1, inplace=True)\n",
    "\n",
    "fake_bop = pd.read_csv(\"../System/fake_news_bop_train.csv\")\n",
    "fake_bop.set_index('index', inplace=True)\n",
    "fake_bop.drop('class', axis=1, inplace=True)\n",
    "\n",
    "fake_fun = pd.read_csv(\"../System/fake_news_function_words_train.csv\")\n",
    "fake_fun.set_index('index', inplace=True)\n",
    "fake_fun.drop('class', axis=1, inplace=True)"
   ]
  },
  {
   "cell_type": "markdown",
   "metadata": {},
   "source": [
    "Build the dictionary of feature tables."
   ]
  },
  {
   "cell_type": "code",
   "execution_count": 6,
   "metadata": {},
   "outputs": [],
   "source": [
    "feature_set_names = ['complexity', 'deception', 'details', 'formality', 'humour', 'imagination', 'vagueness']\n",
    "\n",
    "# This is the old list of selection features.\n",
    "# selection_feats = ['avg_sentence_len', 'body_punctuation', 'readability', 'lexical_diversity',\n",
    "#                    'fp_pronouns', 'time_related', 'sense_words', 'proper_nouns', 'ap_date',\n",
    "#                    'ap_num', 'preposition', 'adjectives', 'ima_conjunctions', 'degree_adverbs']\n",
    "\n",
    "selection_feats = ['avg_sentence_len', 'body_punctuation', 'lexical_diversity', 'fp_pronouns', \n",
    "                   'time_related', 'sense_words', 'proper_nouns', 'dates', 'ap_title', 'ap_date',\n",
    "                   'ap_num', 'alliteration', 'preposition', 'adjectives', 'ima_determiners', \n",
    "                   'inf_verb', 'usas_ambiguity']\n",
    "\n",
    "feature_sets = dict()\n",
    "\n",
    "for name in feature_set_names:\n",
    "    curr = []\n",
    "    with open(\"feature_sets/{}.txt\".format(name)) as file:\n",
    "        for line in file:\n",
    "            if '-' not in line:\n",
    "                curr.append(line.strip())\n",
    "    feature_sets[name] = curr"
   ]
  },
  {
   "cell_type": "markdown",
   "metadata": {},
   "source": [
    "Build AF Feature Tables"
   ]
  },
  {
   "cell_type": "code",
   "execution_count": 7,
   "metadata": {},
   "outputs": [],
   "source": [
    "af_feature_tables = dict()\n",
    "af_scores = dict()\n",
    "\n",
    "for name in feature_set_names:\n",
    "    af_feature_tables[name] = feats.loc[:, feature_sets[name]]\n",
    "    \n",
    "af_feature_tables['Hoax Set'] = feats\n",
    "af_feature_tables['Complexity + Detail'] = pd.concat([af_feature_tables['complexity'],\n",
    "                                                     af_feature_tables['details']], axis=1)\n",
    "# af_feature_tables['Selection'] = feats.loc[:, selection_feats]\n",
    "af_feature_tables['Bag-of-PoS'] = bop\n",
    "# af_feature_tables['BoPoS + Func Words'] = pd.concat([fun, bop], axis=1)\n",
    "af_feature_tables['BoPoS + Hoax'] = pd.concat([feats, bop], axis=1)\n",
    "    \n",
    "for name in af_feature_tables.keys():\n",
    "    pipeline = Pipeline([\n",
    "            ('normalizer', StandardScaler()),           # Step1 - normalize data\n",
    "            ('clf', LogisticRegression())               # Step2 - classifier\n",
    "            ])\n",
    "    af_scores[name] = cross_validate(pipeline, af_feature_tables[name],\n",
    "                                 af_labels, scoring=scoring, cv=10)"
   ]
  },
  {
   "cell_type": "markdown",
   "metadata": {},
   "source": [
    "Build Fake News Feature Tables"
   ]
  },
  {
   "cell_type": "code",
   "execution_count": 8,
   "metadata": {},
   "outputs": [],
   "source": [
    "def train_af_test_fake(af_table, fake_table, training_labels, testing_labels):\n",
    "    classifier = LogisticRegression()\n",
    "    scaler = StandardScaler()\n",
    "    scaled_af = scaler.fit_transform(af_table)\n",
    "    classifier.fit(scaled_af, training_labels)\n",
    "    scaled_fake = scaler.transform(fake_table)\n",
    "    predicted = classifier.predict(scaled_fake)\n",
    "    return metrics.accuracy_score(testing_labels, predicted)"
   ]
  },
  {
   "cell_type": "code",
   "execution_count": 9,
   "metadata": {},
   "outputs": [],
   "source": [
    "fake_feature_tables = dict()\n",
    "fake_scores = dict()\n",
    "fake_trained_on_af = dict()\n",
    "\n",
    "for name in feature_set_names:\n",
    "    fake_feature_tables[name] = fakes.loc[:, feature_sets[name]]\n",
    "    \n",
    "fake_feature_tables['Hoax Set'] = fakes\n",
    "fake_feature_tables['Complexity + Detail'] = pd.concat([fake_feature_tables['complexity'],\n",
    "                                                     fake_feature_tables['details']], axis=1)\n",
    "# fake_feature_tables['Selection'] = fakes.loc[:, selection_feats]\n",
    "fake_feature_tables['Bag-of-PoS'] = fake_bop\n",
    "# fake_feature_tables['BoPoS + Func Words'] = pd.concat([fake_fun, fake_bop], axis=1)\n",
    "fake_feature_tables['BoPoS + Hoax'] = pd.concat([fakes, fake_bop], axis=1)\n",
    "    \n",
    "for name in fake_feature_tables.keys():\n",
    "    pipeline = Pipeline([\n",
    "            ('normalizer', StandardScaler()),           # Step1 - normalize data\n",
    "            ('clf', LogisticRegression())               # Step2 - classifier\n",
    "            ])\n",
    "    fake_scores[name] = cross_validate(pipeline, fake_feature_tables[name],\n",
    "                                 fake_labels, scoring=scoring, cv=10)\n",
    "    fake_trained_on_af[name] = train_af_test_fake(af_feature_tables[name],\n",
    "                                                 fake_feature_tables[name],\n",
    "                                                 af_labels, fake_labels)"
   ]
  },
  {
   "cell_type": "markdown",
   "metadata": {},
   "source": [
    "Get Cross-Val Scores"
   ]
  },
  {
   "cell_type": "code",
   "execution_count": 10,
   "metadata": {},
   "outputs": [],
   "source": [
    "af_test_scores = dict()\n",
    "for name in af_feature_tables.keys():\n",
    "    af_test_scores[name] = af_scores[name]['test_accuracy']\n",
    "    \n",
    "af_test_pd = pd.DataFrame(af_test_scores)\n",
    "\n",
    "fake_test_scores = dict()\n",
    "for name in fake_feature_tables.keys():\n",
    "    fake_test_scores[name] = fake_scores[name]['test_accuracy']\n",
    "    \n",
    "fake_test_pd = pd.DataFrame(fake_test_scores)"
   ]
  },
  {
   "cell_type": "code",
   "execution_count": 11,
   "metadata": {},
   "outputs": [
    {
     "data": {
      "text/plain": [
       "0.649402390438247"
      ]
     },
     "execution_count": 11,
     "metadata": {},
     "output_type": "execute_result"
    }
   ],
   "source": [
    "fake_trained_on_af[\"Bag-of-PoS\"]"
   ]
  },
  {
   "cell_type": "markdown",
   "metadata": {},
   "source": [
    "Plot AF Graph"
   ]
  },
  {
   "cell_type": "code",
   "execution_count": 12,
   "metadata": {},
   "outputs": [
    {
     "data": {
      "image/png": "[encoded data removed]",
      "text/plain": [
       "<matplotlib.figure.Figure at 0x7f38891886d8>"
      ]
     },
     "metadata": {},
     "output_type": "display_data"
    }
   ],
   "source": [
    "fig, ax = plt.subplots(figsize=(15, 12))\n",
    "x_pos = np.arange(len(af_test_pd.columns))\n",
    "\n",
    "sorted_names = ['vagueness', 'details', 'imagination', 'deception', 'humour', 'formality',\n",
    "               'complexity', 'Hoax Set', 'Complexity + Detail',\n",
    "                'Bag-of-PoS', 'BoPoS + Hoax']\n",
    "sorted_means = [af_test_pd.mean()[name] for name in sorted_names]\n",
    "sorted_stds = [af_test_pd.std()[name] for name in sorted_names]\n",
    "\n",
    "axis_labels = ['Vagueness', 'Details', 'Imagination', 'Deception', 'Humour', 'Formality', \n",
    "                'Complexity', 'Hoax Set', 'Comp + Detail',\n",
    "                'Bag-of-PoS', 'BoPoS + Hoax']\n",
    "\n",
    "col_width = 0.7\n",
    "\n",
    "# cv_scores.plot.bar(ax=ax, yerr=cv_stds, capsize=10)\n",
    "ax.bar(x=x_pos, height=sorted_means, width=col_width, \n",
    "       align='center', alpha=0.5, color=\"#377eb8\")\n",
    "\n",
    "(_, caps, _) = plt.errorbar(x=x_pos, y=sorted_means, yerr=sorted_stds,\n",
    "                            capsize=15, color='#000000', fmt='x')\n",
    "for cap in caps:\n",
    "    cap.set_color('#000000')\n",
    "    cap.set_markeredgewidth(2)\n",
    "\n",
    "ax.set_xticks(x_pos)\n",
    "ax.set_xticklabels(axis_labels, rotation='vertical')\n",
    "ax.set_ylim(ymin=0.3)\n",
    "ax.set_ylabel(\"Accuracy\")\n",
    "ax.yaxis.grid(True)\n",
    "\n",
    "ax.tick_params(labelsize=25)\n",
    "ax.set_ylabel('Accuracy', fontsize=25)\n",
    "\n",
    "plt.tight_layout()\n",
    "plt.show()\n",
    "fig.savefig(\"graphs/af_results.pdf\", bbox_inches='tight')"
   ]
  },
  {
   "cell_type": "code",
   "execution_count": 13,
   "metadata": {},
   "outputs": [
    {
     "data": {
      "text/plain": [
       "Bag-of-PoS             0.744627\n",
       "BoPoS + Hoax           0.784257\n",
       "Complexity + Detail    0.717760\n",
       "Hoax Set               0.750452\n",
       "complexity             0.655939\n",
       "deception              0.606806\n",
       "details                0.660916\n",
       "formality              0.583842\n",
       "humour                 0.575924\n",
       "imagination            0.624265\n",
       "vagueness              0.595268\n",
       "dtype: float64"
      ]
     },
     "execution_count": 13,
     "metadata": {},
     "output_type": "execute_result"
    }
   ],
   "source": [
    "af_test_pd.mean()"
   ]
  },
  {
   "cell_type": "markdown",
   "metadata": {},
   "source": [
    "Plot Fake News Graph"
   ]
  },
  {
   "cell_type": "code",
   "execution_count": 28,
   "metadata": {},
   "outputs": [
    {
     "data": {
      "image/png": "[encoded data removed]",
      "text/plain": [
       "<matplotlib.figure.Figure at 0x7f38847a95f8>"
      ]
     },
     "metadata": {},
     "output_type": "display_data"
    }
   ],
   "source": [
    "fig, ax = plt.subplots(figsize=(15, 12))\n",
    "x_pos = np.arange(len(af_test_pd.columns))\n",
    "\n",
    "sorted_names = ['vagueness', 'details', 'imagination', 'deception', 'humour', 'formality',\n",
    "               'complexity', 'Hoax Set', 'Complexity + Detail',\n",
    "                'Bag-of-PoS','BoPoS + Hoax']\n",
    "sorted_means = [fake_test_pd.mean()[name] for name in sorted_names]\n",
    "sorted_stds = [fake_test_pd.std()[name] for name in sorted_names]\n",
    "sorted_af_fake = [fake_trained_on_af[name] for name in sorted_names]\n",
    "\n",
    "axis_labels = ['Vagueness', 'Details', 'Imagination', 'Deception', 'Humour', 'Formality', \n",
    "                'Complexity', 'Hoax Set', 'Comp + Detail',\n",
    "                'Bag-of-PoS', 'BoPoS + Hoax']\n",
    "\n",
    "col_width = 0.35\n",
    "\n",
    "# cv_scores.plot.bar(ax=ax, yerr=cv_stds, capsize=10)\n",
    "bar1 = ax.bar(x=x_pos, height=sorted_means, width=col_width,\n",
    "       align='center', alpha=0.5, color=\"#377eb8\")\n",
    "\n",
    "bar2 = ax.bar(x=x_pos+col_width, height=sorted_af_fake, width=col_width,\n",
    "       align='center', alpha=0.5, color=\"#ff7f00\", hatch='/', edgecolor=\"#636363\")\n",
    "\n",
    "(_, caps, _) = plt.errorbar(x=x_pos, y=sorted_means, yerr=sorted_stds,\n",
    "                            capsize=10, color='#000000', fmt='x')\n",
    "for cap in caps:\n",
    "    cap.set_color('#000000')\n",
    "    cap.set_markeredgewidth(2)\n",
    "\n",
    "ax.set_xticks(x_pos+col_width/2)\n",
    "ax.set_xticklabels(axis_labels, rotation='vertical')\n",
    "ax.set_ylim(ymin=0.3)\n",
    "ax.set_ylabel(\"Accuracy\")\n",
    "ax.yaxis.grid(True)\n",
    "\n",
    "ax.tick_params(labelsize=25)\n",
    "ax.set_ylabel('Accuracy', fontsize=25)\n",
    "\n",
    "ax.legend((bar1, bar2), (\"Trained on Fake\", \"Trained on AF\"), prop={'size': 20})\n",
    "\n",
    "plt.tight_layout()\n",
    "plt.show()\n",
    "fig.savefig(\"graphs/fake_results.pdf\", bbox_inches='tight')"
   ]
  },
  {
   "cell_type": "code",
   "execution_count": 15,
   "metadata": {},
   "outputs": [
    {
     "data": {
      "text/plain": [
       "Bag-of-PoS             0.677205\n",
       "BoPoS + Hoax           0.705526\n",
       "Complexity + Detail    0.745269\n",
       "Hoax Set               0.721705\n",
       "complexity             0.709231\n",
       "deception              0.518603\n",
       "details                0.662436\n",
       "formality              0.636679\n",
       "humour                 0.494308\n",
       "imagination            0.469782\n",
       "vagueness              0.565718\n",
       "dtype: float64"
      ]
     },
     "execution_count": 15,
     "metadata": {},
     "output_type": "execute_result"
    }
   ],
   "source": [
    "fake_test_pd.mean()"
   ]
  },
  {
   "cell_type": "code",
   "execution_count": 16,
   "metadata": {},
   "outputs": [
    {
     "data": {
      "text/plain": [
       "{'complexity': 0.7330677290836654,\n",
       " 'deception': 0.5338645418326693,\n",
       " 'details': 0.5298804780876494,\n",
       " 'formality': 0.5577689243027888,\n",
       " 'humour': 0.5418326693227091,\n",
       " 'imagination': 0.5418326693227091,\n",
       " 'vagueness': 0.5418326693227091,\n",
       " 'Hoax Set': 0.6533864541832669,\n",
       " 'Complexity + Detail': 0.6573705179282868,\n",
       " 'Bag-of-PoS': 0.649402390438247,\n",
       " 'BoPoS + Hoax': 0.649402390438247}"
      ]
     },
     "execution_count": 16,
     "metadata": {},
     "output_type": "execute_result"
    }
   ],
   "source": [
    "fake_trained_on_af"
   ]
  },
  {
   "cell_type": "code",
   "execution_count": null,
   "metadata": {},
   "outputs": [],
   "source": [
    "af_test_pd"
   ]
  },
  {
   "cell_type": "code",
   "execution_count": null,
   "metadata": {},
   "outputs": [],
   "source": [
    "fig, ax = plt.subplots(figsize=(10, 8))\n",
    "\n",
    "field_names = ['Hoax Set', 'Complexity + Detail',\n",
    "                'Bag-of-PoS']\n",
    "\n",
    "sorted_means = [af_test_pd.mean()[name] for name in field_names]\n",
    "sorted_stds = [af_test_pd.std()[name] for name in field_names]\n",
    "\n",
    "x_pos = np.arange(len(sorted_means))\n",
    "\n",
    "axis_labels = ['Hoax Set', 'Complexity + Detail',\n",
    "                'Bag-of-PoS']\n",
    "\n",
    "col_width = 0.35\n",
    "\n",
    "# cv_scores.plot.bar(ax=ax, yerr=cv_stds, capsize=10)\n",
    "ax.bar(x=x_pos, height=sorted_means, width=col_width, \n",
    "       align='center', alpha=0.5, color=\"#377eb8\")\n",
    "\n",
    "# (_, caps, _) = plt.errorbar(x=x_pos, y=sorted_means, yerr=sorted_stds,\n",
    "#                             capsize=15, color='#000000', fmt='x')\n",
    "# for cap in caps:\n",
    "#     cap.set_color('#000000')\n",
    "#     cap.set_markeredgewidth(2)\n",
    "\n",
    "ax.set_xticks(x_pos)\n",
    "ax.set_xticklabels(\"\")\n",
    "ax.set_ylim(ymin=0.45)\n",
    "ax.set_ylabel(\"\")\n",
    "ax.yaxis.grid(True)\n",
    "\n",
    "ax.tick_params(labelsize=25)\n",
    "ax.set_ylabel('', fontsize=25)\n",
    "\n",
    "plt.tight_layout()\n",
    "plt.show()\n",
    "fig.savefig(\"graphs/af_min_results.pdf\", bbox_inches='tight')"
   ]
  },
  {
   "cell_type": "code",
   "execution_count": null,
   "metadata": {},
   "outputs": [],
   "source": [
    "fig, ax = plt.subplots(figsize=(10, 8))\n",
    "\n",
    "sorted_names = ['Hoax Set', 'Complexity + Detail',\n",
    "                'Bag-of-PoS']\n",
    "sorted_means = [fake_test_pd.mean()[name] for name in sorted_names]\n",
    "sorted_stds = [fake_test_pd.std()[name] for name in sorted_names]\n",
    "sorted_af_fake = [fake_trained_on_af[name] for name in sorted_names]\n",
    "\n",
    "x_pos = np.arange(len(sorted_means))\n",
    "\n",
    "axis_labels = ['Hoax Set', 'Comp + Detail',\n",
    "                'Bag-of-PoS']\n",
    "\n",
    "col_width = 0.35\n",
    "\n",
    "# cv_scores.plot.bar(ax=ax, yerr=cv_stds, capsize=10)\n",
    "bar1 = ax.bar(x=x_pos, height=sorted_means, width=col_width,\n",
    "       align='center', alpha=0.5, color=\"#377eb8\")\n",
    "\n",
    "bar2 = ax.bar(x=x_pos+col_width, height=sorted_af_fake, width=col_width,\n",
    "       align='center', alpha=0.5, color=\"#ff7f00\")\n",
    "\n",
    "# (_, caps, _) = plt.errorbar(x=x_pos, y=sorted_means, yerr=sorted_stds,\n",
    "#                             capsize=10, color='#000000', fmt='x')\n",
    "# for cap in caps:\n",
    "#     cap.set_color('#000000')\n",
    "#     cap.set_markeredgewidth(2)\n",
    "\n",
    "ax.set_xticks(x_pos+col_width/2)\n",
    "ax.set_xticklabels(\"\")\n",
    "ax.set_ylim(ymin=0.45)\n",
    "ax.set_ylabel(\"\")\n",
    "ax.yaxis.grid(True)\n",
    "\n",
    "ax.tick_params(labelsize=25)\n",
    "ax.set_ylabel('', fontsize=25)\n",
    "\n",
    "ax.legend((bar1, bar2), (\"Trained on Fake\", \"Trained on AF\"), prop={'size': 20})\n",
    "\n",
    "plt.tight_layout()\n",
    "plt.show()\n",
    "fig.savefig(\"graphs/fake_min_results.pdf\", bbox_inches='tight')"
   ]
  },
  {
   "cell_type": "markdown",
   "metadata": {},
   "source": [
    "Plot the CL Graph"
   ]
  },
  {
   "cell_type": "code",
   "execution_count": null,
   "metadata": {},
   "outputs": [],
   "source": [
    "# This graph is only feature groups and feats.\n",
    "fig, ax = plt.subplots(figsize=(15, 12))\n",
    "\n",
    "sorted_names = ['vagueness', 'details', 'imagination', 'deception', 'humour', 'formality',\n",
    "               'complexity', 'Hoax Set', 'Complexity + Detail']\n",
    "sorted_means = [af_test_pd.mean()[name] for name in sorted_names]\n",
    "sorted_stds = [af_test_pd.std()[name] for name in sorted_names]\n",
    "\n",
    "axis_labels = ['Vagueness', 'Details', 'Imagination', 'Deception', 'Humour', 'Formality', \n",
    "                'Complexity', 'Hoax Set', 'Comp + Detail']\n",
    "\n",
    "x_pos = np.arange(len(sorted_names))\n",
    "\n",
    "col_width = 0.7\n",
    "\n",
    "# cv_scores.plot.bar(ax=ax, yerr=cv_stds, capsize=10)\n",
    "ax.bar(x=x_pos, height=sorted_means, width=col_width, \n",
    "       align='center', alpha=0.5, color=\"#377eb8\")\n",
    "\n",
    "(_, caps, _) = plt.errorbar(x=x_pos, y=sorted_means, yerr=sorted_stds,\n",
    "                            capsize=15, color='#000000', fmt='x')\n",
    "for cap in caps:\n",
    "    cap.set_color('#000000')\n",
    "    cap.set_markeredgewidth(2)\n",
    "\n",
    "ax.set_xticks(x_pos)\n",
    "ax.set_xticklabels(axis_labels, rotation='vertical')\n",
    "ax.set_ylim(ymin=0.3)\n",
    "ax.set_ylabel(\"Accuracy\")\n",
    "ax.yaxis.grid(True)\n",
    "\n",
    "ax.tick_params(labelsize=25)\n",
    "ax.set_ylabel('Accuracy', fontsize=25)\n",
    "\n",
    "plt.tight_layout()\n",
    "plt.show()\n",
    "fig.savefig(\"graphs/CL2019_Graph.pdf\", bbox_inches='tight')"
   ]
  }
 ],
 "metadata": {
  "kernelspec": {
   "display_name": "Python 3",
   "language": "python",
   "name": "python3"
  },
  "language_info": {
   "codemirror_mode": {
    "name": "ipython",
    "version": 3
   },
   "file_extension": ".py",
   "mimetype": "text/x-python",
   "name": "python",
   "nbconvert_exporter": "python",
   "pygments_lexer": "ipython3",
   "version": "3.6.5"
  }
 },
 "nbformat": 4,
 "nbformat_minor": 2
}
