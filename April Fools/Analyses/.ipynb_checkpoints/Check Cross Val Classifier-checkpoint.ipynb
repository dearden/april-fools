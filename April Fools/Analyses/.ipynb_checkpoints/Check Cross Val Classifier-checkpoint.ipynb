{
 "cells": [
  {
   "cell_type": "code",
   "execution_count": 1,
   "metadata": {},
   "outputs": [],
   "source": [
    "import pandas as pd\n",
    "\n",
    "from sklearn.svm import LinearSVC, SVC\n",
    "from sklearn.model_selection import cross_validate, cross_val_predict, cross_val_score\n",
    "\n",
    "from sklearn.pipeline import Pipeline\n",
    "from sklearn.preprocessing import StandardScaler, RobustScaler, MinMaxScaler, Normalizer\n",
    "\n",
    "import sys\n",
    "sys.path.insert(0, '../System')\n",
    "\n",
    "from classify import get_feature_table, get_feature_groups, train_classify\n",
    "\n",
    "import pickle"
   ]
  },
  {
   "cell_type": "code",
   "execution_count": 2,
   "metadata": {},
   "outputs": [],
   "source": [
    "# open a file, where you stored the pickled data\n",
    "with open(\"../System/clfs/grid_svc.sav\", 'rb') as file:\n",
    "    grid_clf = pickle.load(file)\n",
    "    \n",
    "with open(\"../System/clfs/standard_linear_svc.sav\", 'rb') as file:\n",
    "    stan_clf = pickle.load(file)\n",
    "\n",
    "pipeline = Pipeline([\n",
    "            # ('normalizer', MinMaxScaler(feature_range=(0, 1))),           # Step1 - normalize data\n",
    "            # ('normalizer', RobustScaler(quantile_range=(25, 75))),        # Step1 - normalize data\n",
    "            ('normalizer', StandardScaler()),                              # Step1 - normalize data\n",
    "            ('clf', stan_clf)  # Step2 - classifier                                       # Step2 - classifier\n",
    "            ])"
   ]
  },
  {
   "cell_type": "code",
   "execution_count": 3,
   "metadata": {},
   "outputs": [],
   "source": [
    "feats = pd.read_csv(\"../System/feats_train.csv\")\n",
    "labels = feats[\"class\"]\n",
    "feats.drop('class', axis=1, inplace=True)"
   ]
  },
  {
   "cell_type": "code",
   "execution_count": 4,
   "metadata": {},
   "outputs": [
    {
     "data": {
      "text/plain": [
       "{'fit_time': array([0.4156301 , 0.40651083, 0.58581638, 0.4775126 , 0.54549074,\n",
       "        0.39158988, 0.39642596, 0.3508637 , 0.30104446, 0.33383012]),\n",
       " 'score_time': array([0.00518036, 0.01678061, 0.02758837, 0.0050056 , 0.0053761 ,\n",
       "        0.00516033, 0.00514865, 0.00516677, 0.00510287, 0.00504708]),\n",
       " 'test_precision_macro': array([0.72710538, 0.69227273, 0.76643991, 0.71520147, 0.69047619,\n",
       "        0.80743243, 0.79579093, 0.77534884, 0.72209302, 0.77818094]),\n",
       " 'train_precision_macro': array([0.79316473, 0.79455959, 0.78071252, 0.78753208, 0.7932938 ,\n",
       "        0.78700855, 0.78590564, 0.78351165, 0.78829964, 0.79078405]),\n",
       " 'test_recall_macro': array([0.72340426, 0.69148936, 0.76595745, 0.71276596, 0.68871415,\n",
       "        0.7946346 , 0.79579093, 0.77382054, 0.72086031, 0.77173913]),\n",
       " 'train_recall_macro': array([0.79247502, 0.79364565, 0.7806551 , 0.78647982, 0.79276174,\n",
       "        0.78555069, 0.78435452, 0.78197351, 0.78673553, 0.79067551])}"
      ]
     },
     "execution_count": 4,
     "metadata": {},
     "output_type": "execute_result"
    }
   ],
   "source": [
    "scoring = ['precision_macro', 'recall_macro']\n",
    "scores = cross_validate(pipeline, feats, labels, scoring=scoring, cv=10)\n",
    "scores"
   ]
  },
  {
   "cell_type": "code",
   "execution_count": 5,
   "metadata": {},
   "outputs": [
    {
     "name": "stdout",
     "output_type": "stream",
     "text": [
      "Precision: 0.6820497293106911\n",
      "Recall: 0.7198275862068966\n",
      "Accuracy: 0.7438370846730975\n",
      "F1-Score: 0.7364939360529217\n"
     ]
    }
   ],
   "source": [
    "predictions = train_classify(['feats'], stan_clf)"
   ]
  },
  {
   "cell_type": "code",
   "execution_count": 6,
   "metadata": {},
   "outputs": [
    {
     "name": "stdout",
     "output_type": "stream",
     "text": [
      "Precision: 0.6746142967494297\n",
      "Recall: 0.7112068965517241\n",
      "Accuracy: 0.7363344051446945\n",
      "F1-Score: 0.7284768211920528\n"
     ]
    }
   ],
   "source": [
    "predictions = train_classify(['feats'], grid_clf)"
   ]
  },
  {
   "cell_type": "code",
   "execution_count": 7,
   "metadata": {},
   "outputs": [
    {
     "data": {
      "text/plain": [
       "SVC(C=0.01, cache_size=200, class_weight=None, coef0=0.0,\n",
       "  decision_function_shape='ovr', degree=3, gamma=0.001, kernel='linear',\n",
       "  max_iter=-1, probability=False, random_state=None, shrinking=True,\n",
       "  tol=0.001, verbose=False)"
      ]
     },
     "execution_count": 7,
     "metadata": {},
     "output_type": "execute_result"
    }
   ],
   "source": [
    "grid_clf"
   ]
  },
  {
   "cell_type": "code",
   "execution_count": 8,
   "metadata": {},
   "outputs": [
    {
     "data": {
      "text/plain": [
       "SVC(C=3.698481284123085, cache_size=200, class_weight=None, coef0=0.0,\n",
       "  decision_function_shape='ovr', degree=3, gamma=0.20300389999423507,\n",
       "  kernel='linear', max_iter=-1, probability=False, random_state=None,\n",
       "  shrinking=True, tol=0.001, verbose=False)"
      ]
     },
     "execution_count": 8,
     "metadata": {},
     "output_type": "execute_result"
    }
   ],
   "source": [
    "stan_clf"
   ]
  },
  {
   "cell_type": "code",
   "execution_count": 11,
   "metadata": {},
   "outputs": [
    {
     "ename": "NameError",
     "evalue": "name 'SVC' is not defined",
     "output_type": "error",
     "traceback": [
      "\u001b[0;31m---------------------------------------------------------------------------\u001b[0m",
      "\u001b[0;31mNameError\u001b[0m                                 Traceback (most recent call last)",
      "\u001b[0;32m<ipython-input-11-ad398c75c555>\u001b[0m in \u001b[0;36m<module>\u001b[0;34m()\u001b[0m\n\u001b[0;32m----> 1\u001b[0;31m \u001b[0mSVC\u001b[0m\u001b[0;34m(\u001b[0m\u001b[0mkernel\u001b[0m\u001b[0;34m=\u001b[0m\u001b[0;34m'linear'\u001b[0m\u001b[0;34m)\u001b[0m\u001b[0;34m\u001b[0m\u001b[0m\n\u001b[0m",
      "\u001b[0;31mNameError\u001b[0m: name 'SVC' is not defined"
     ]
    }
   ],
   "source": [
    "SVC(kernel='linear')"
   ]
  }
 ],
 "metadata": {
  "kernelspec": {
   "display_name": "Python 3",
   "language": "python",
   "name": "python3"
  },
  "language_info": {
   "codemirror_mode": {
    "name": "ipython",
    "version": 3
   },
   "file_extension": ".py",
   "mimetype": "text/x-python",
   "name": "python",
   "nbconvert_exporter": "python",
   "pygments_lexer": "ipython3",
   "version": "3.6.5"
  }
 },
 "nbformat": 4,
 "nbformat_minor": 2
}
