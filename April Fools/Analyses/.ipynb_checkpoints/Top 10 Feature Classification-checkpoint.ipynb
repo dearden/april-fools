{
 "cells": [
  {
   "cell_type": "code",
   "execution_count": 1,
   "metadata": {},
   "outputs": [],
   "source": [
    "import sys\n",
    "sys.path.insert(0, '../System')\n",
    "\n",
    "import pandas as pd\n",
    "import matplotlib.pyplot as plt\n",
    "\n",
    "from sklearn.svm import LinearSVC\n",
    "\n",
    "from classify import get_feature_table, get_feature_groups, train_classify"
   ]
  },
  {
   "cell_type": "code",
   "execution_count": 2,
   "metadata": {},
   "outputs": [
    {
     "data": {
      "text/html": [
       "<div>\n",
       "<style scoped>\n",
       "    .dataframe tbody tr th:only-of-type {\n",
       "        vertical-align: middle;\n",
       "    }\n",
       "\n",
       "    .dataframe tbody tr th {\n",
       "        vertical-align: top;\n",
       "    }\n",
       "\n",
       "    .dataframe thead th {\n",
       "        text-align: right;\n",
       "    }\n",
       "</style>\n",
       "<table border=\"1\" class=\"dataframe\">\n",
       "  <thead>\n",
       "    <tr style=\"text-align: right;\">\n",
       "      <th></th>\n",
       "      <th>lexical_diversity</th>\n",
       "      <th>preposition</th>\n",
       "      <th>time_related</th>\n",
       "      <th>spelling_errors</th>\n",
       "      <th>numbers</th>\n",
       "      <th>avg_sentence_len</th>\n",
       "      <th>usas_ambiguity</th>\n",
       "      <th>head_punctuation</th>\n",
       "      <th>readability</th>\n",
       "      <th>claws_ambiguity</th>\n",
       "      <th>class</th>\n",
       "    </tr>\n",
       "  </thead>\n",
       "  <tbody>\n",
       "    <tr>\n",
       "      <th>0</th>\n",
       "      <td>0.613692</td>\n",
       "      <td>0.089552</td>\n",
       "      <td>0.059701</td>\n",
       "      <td>0.034230</td>\n",
       "      <td>0.012438</td>\n",
       "      <td>0.194762</td>\n",
       "      <td>0.523227</td>\n",
       "      <td>0.000000</td>\n",
       "      <td>0.768791</td>\n",
       "      <td>0.249389</td>\n",
       "      <td>1</td>\n",
       "    </tr>\n",
       "    <tr>\n",
       "      <th>1</th>\n",
       "      <td>0.590206</td>\n",
       "      <td>0.094241</td>\n",
       "      <td>0.054974</td>\n",
       "      <td>0.030928</td>\n",
       "      <td>0.000000</td>\n",
       "      <td>0.204211</td>\n",
       "      <td>0.412371</td>\n",
       "      <td>0.000000</td>\n",
       "      <td>0.762037</td>\n",
       "      <td>0.242268</td>\n",
       "      <td>1</td>\n",
       "    </tr>\n",
       "    <tr>\n",
       "      <th>2</th>\n",
       "      <td>0.566667</td>\n",
       "      <td>0.119149</td>\n",
       "      <td>0.034043</td>\n",
       "      <td>0.020833</td>\n",
       "      <td>0.008511</td>\n",
       "      <td>0.184615</td>\n",
       "      <td>0.487500</td>\n",
       "      <td>0.000000</td>\n",
       "      <td>0.734614</td>\n",
       "      <td>0.204167</td>\n",
       "      <td>1</td>\n",
       "    </tr>\n",
       "    <tr>\n",
       "      <th>3</th>\n",
       "      <td>0.708333</td>\n",
       "      <td>0.153439</td>\n",
       "      <td>0.042328</td>\n",
       "      <td>0.130208</td>\n",
       "      <td>0.037037</td>\n",
       "      <td>0.213333</td>\n",
       "      <td>0.380208</td>\n",
       "      <td>0.000000</td>\n",
       "      <td>0.728984</td>\n",
       "      <td>0.270833</td>\n",
       "      <td>1</td>\n",
       "    </tr>\n",
       "    <tr>\n",
       "      <th>4</th>\n",
       "      <td>0.529532</td>\n",
       "      <td>0.130165</td>\n",
       "      <td>0.061983</td>\n",
       "      <td>0.054990</td>\n",
       "      <td>0.035124</td>\n",
       "      <td>0.288824</td>\n",
       "      <td>0.556008</td>\n",
       "      <td>0.027027</td>\n",
       "      <td>0.846659</td>\n",
       "      <td>0.203666</td>\n",
       "      <td>1</td>\n",
       "    </tr>\n",
       "  </tbody>\n",
       "</table>\n",
       "</div>"
      ],
      "text/plain": [
       "   lexical_diversity  preposition  time_related  spelling_errors   numbers  \\\n",
       "0           0.613692     0.089552      0.059701         0.034230  0.012438   \n",
       "1           0.590206     0.094241      0.054974         0.030928  0.000000   \n",
       "2           0.566667     0.119149      0.034043         0.020833  0.008511   \n",
       "3           0.708333     0.153439      0.042328         0.130208  0.037037   \n",
       "4           0.529532     0.130165      0.061983         0.054990  0.035124   \n",
       "\n",
       "   avg_sentence_len  usas_ambiguity  head_punctuation  readability  \\\n",
       "0          0.194762        0.523227          0.000000     0.768791   \n",
       "1          0.204211        0.412371          0.000000     0.762037   \n",
       "2          0.184615        0.487500          0.000000     0.734614   \n",
       "3          0.213333        0.380208          0.000000     0.728984   \n",
       "4          0.288824        0.556008          0.027027     0.846659   \n",
       "\n",
       "   claws_ambiguity  class  \n",
       "0         0.249389      1  \n",
       "1         0.242268      1  \n",
       "2         0.204167      1  \n",
       "3         0.270833      1  \n",
       "4         0.203666      1  "
      ]
     },
     "execution_count": 2,
     "metadata": {},
     "output_type": "execute_result"
    }
   ],
   "source": [
    "table, labels = get_feature_table(['sanity'], 'train')\n",
    "top_svm = get_feature_groups(['top_10_svm'], table)\n",
    "top_svm['class'] = labels\n",
    "top_svm.head()"
   ]
  },
  {
   "cell_type": "code",
   "execution_count": 3,
   "metadata": {},
   "outputs": [
    {
     "data": {
      "text/html": [
       "<div>\n",
       "<style scoped>\n",
       "    .dataframe tbody tr th:only-of-type {\n",
       "        vertical-align: middle;\n",
       "    }\n",
       "\n",
       "    .dataframe tbody tr th {\n",
       "        vertical-align: top;\n",
       "    }\n",
       "\n",
       "    .dataframe thead th {\n",
       "        text-align: right;\n",
       "    }\n",
       "</style>\n",
       "<table border=\"1\" class=\"dataframe\">\n",
       "  <thead>\n",
       "    <tr style=\"text-align: right;\">\n",
       "      <th></th>\n",
       "      <th>readability</th>\n",
       "      <th>contextual_imbalance_head</th>\n",
       "      <th>body_punctuation</th>\n",
       "      <th>contextual_imbalance_head</th>\n",
       "      <th>function_words</th>\n",
       "      <th>lexical_density</th>\n",
       "      <th>lexical_diversity</th>\n",
       "      <th>usas_ambiguity</th>\n",
       "      <th>adjectives</th>\n",
       "      <th>claws_ambiguity</th>\n",
       "      <th>class</th>\n",
       "    </tr>\n",
       "  </thead>\n",
       "  <tbody>\n",
       "    <tr>\n",
       "      <th>0</th>\n",
       "      <td>0.768791</td>\n",
       "      <td>0.571131</td>\n",
       "      <td>0.019908</td>\n",
       "      <td>0.571131</td>\n",
       "      <td>0.410758</td>\n",
       "      <td>0.589242</td>\n",
       "      <td>0.613692</td>\n",
       "      <td>0.523227</td>\n",
       "      <td>0.079602</td>\n",
       "      <td>0.249389</td>\n",
       "      <td>1</td>\n",
       "    </tr>\n",
       "    <tr>\n",
       "      <th>1</th>\n",
       "      <td>0.762037</td>\n",
       "      <td>0.568414</td>\n",
       "      <td>0.028405</td>\n",
       "      <td>0.568414</td>\n",
       "      <td>0.402062</td>\n",
       "      <td>0.597938</td>\n",
       "      <td>0.590206</td>\n",
       "      <td>0.412371</td>\n",
       "      <td>0.089005</td>\n",
       "      <td>0.242268</td>\n",
       "      <td>1</td>\n",
       "    </tr>\n",
       "    <tr>\n",
       "      <th>2</th>\n",
       "      <td>0.734614</td>\n",
       "      <td>0.577164</td>\n",
       "      <td>0.017590</td>\n",
       "      <td>0.577164</td>\n",
       "      <td>0.425000</td>\n",
       "      <td>0.575000</td>\n",
       "      <td>0.566667</td>\n",
       "      <td>0.487500</td>\n",
       "      <td>0.093617</td>\n",
       "      <td>0.204167</td>\n",
       "      <td>1</td>\n",
       "    </tr>\n",
       "    <tr>\n",
       "      <th>3</th>\n",
       "      <td>0.728984</td>\n",
       "      <td>0.567072</td>\n",
       "      <td>0.025662</td>\n",
       "      <td>0.567072</td>\n",
       "      <td>0.395833</td>\n",
       "      <td>0.604167</td>\n",
       "      <td>0.708333</td>\n",
       "      <td>0.380208</td>\n",
       "      <td>0.074074</td>\n",
       "      <td>0.270833</td>\n",
       "      <td>1</td>\n",
       "    </tr>\n",
       "    <tr>\n",
       "      <th>4</th>\n",
       "      <td>0.846659</td>\n",
       "      <td>0.577825</td>\n",
       "      <td>0.022436</td>\n",
       "      <td>0.577825</td>\n",
       "      <td>0.389002</td>\n",
       "      <td>0.610998</td>\n",
       "      <td>0.529532</td>\n",
       "      <td>0.556008</td>\n",
       "      <td>0.095041</td>\n",
       "      <td>0.203666</td>\n",
       "      <td>1</td>\n",
       "    </tr>\n",
       "  </tbody>\n",
       "</table>\n",
       "</div>"
      ],
      "text/plain": [
       "   readability  contextual_imbalance_head  body_punctuation  \\\n",
       "0     0.768791                   0.571131          0.019908   \n",
       "1     0.762037                   0.568414          0.028405   \n",
       "2     0.734614                   0.577164          0.017590   \n",
       "3     0.728984                   0.567072          0.025662   \n",
       "4     0.846659                   0.577825          0.022436   \n",
       "\n",
       "   contextual_imbalance_head  function_words  lexical_density  \\\n",
       "0                   0.571131        0.410758         0.589242   \n",
       "1                   0.568414        0.402062         0.597938   \n",
       "2                   0.577164        0.425000         0.575000   \n",
       "3                   0.567072        0.395833         0.604167   \n",
       "4                   0.577825        0.389002         0.610998   \n",
       "\n",
       "   lexical_diversity  usas_ambiguity  adjectives  claws_ambiguity  class  \n",
       "0           0.613692        0.523227    0.079602         0.249389      1  \n",
       "1           0.590206        0.412371    0.089005         0.242268      1  \n",
       "2           0.566667        0.487500    0.093617         0.204167      1  \n",
       "3           0.708333        0.380208    0.074074         0.270833      1  \n",
       "4           0.529532        0.556008    0.095041         0.203666      1  "
      ]
     },
     "execution_count": 3,
     "metadata": {},
     "output_type": "execute_result"
    }
   ],
   "source": [
    "table, labels = get_feature_table(['sanity'], 'train')\n",
    "top_ig = get_feature_groups(['top_10_ig'], table)\n",
    "top_ig['class'] = labels\n",
    "top_ig.head()"
   ]
  },
  {
   "cell_type": "code",
   "execution_count": 4,
   "metadata": {},
   "outputs": [
    {
     "data": {
      "text/html": [
       "<div>\n",
       "<style scoped>\n",
       "    .dataframe tbody tr th:only-of-type {\n",
       "        vertical-align: middle;\n",
       "    }\n",
       "\n",
       "    .dataframe tbody tr th {\n",
       "        vertical-align: top;\n",
       "    }\n",
       "\n",
       "    .dataframe thead th {\n",
       "        text-align: right;\n",
       "    }\n",
       "</style>\n",
       "<table border=\"1\" class=\"dataframe\">\n",
       "  <thead>\n",
       "    <tr style=\"text-align: right;\">\n",
       "      <th></th>\n",
       "      <th>lexical_diversity</th>\n",
       "      <th>preposition</th>\n",
       "      <th>time_related</th>\n",
       "      <th>spelling_errors</th>\n",
       "      <th>numbers</th>\n",
       "      <th>class</th>\n",
       "    </tr>\n",
       "  </thead>\n",
       "  <tbody>\n",
       "    <tr>\n",
       "      <th>0</th>\n",
       "      <td>0.613692</td>\n",
       "      <td>0.089552</td>\n",
       "      <td>0.059701</td>\n",
       "      <td>0.034230</td>\n",
       "      <td>0.012438</td>\n",
       "      <td>1</td>\n",
       "    </tr>\n",
       "    <tr>\n",
       "      <th>1</th>\n",
       "      <td>0.590206</td>\n",
       "      <td>0.094241</td>\n",
       "      <td>0.054974</td>\n",
       "      <td>0.030928</td>\n",
       "      <td>0.000000</td>\n",
       "      <td>1</td>\n",
       "    </tr>\n",
       "    <tr>\n",
       "      <th>2</th>\n",
       "      <td>0.566667</td>\n",
       "      <td>0.119149</td>\n",
       "      <td>0.034043</td>\n",
       "      <td>0.020833</td>\n",
       "      <td>0.008511</td>\n",
       "      <td>1</td>\n",
       "    </tr>\n",
       "    <tr>\n",
       "      <th>3</th>\n",
       "      <td>0.708333</td>\n",
       "      <td>0.153439</td>\n",
       "      <td>0.042328</td>\n",
       "      <td>0.130208</td>\n",
       "      <td>0.037037</td>\n",
       "      <td>1</td>\n",
       "    </tr>\n",
       "    <tr>\n",
       "      <th>4</th>\n",
       "      <td>0.529532</td>\n",
       "      <td>0.130165</td>\n",
       "      <td>0.061983</td>\n",
       "      <td>0.054990</td>\n",
       "      <td>0.035124</td>\n",
       "      <td>1</td>\n",
       "    </tr>\n",
       "  </tbody>\n",
       "</table>\n",
       "</div>"
      ],
      "text/plain": [
       "   lexical_diversity  preposition  time_related  spelling_errors   numbers  \\\n",
       "0           0.613692     0.089552      0.059701         0.034230  0.012438   \n",
       "1           0.590206     0.094241      0.054974         0.030928  0.000000   \n",
       "2           0.566667     0.119149      0.034043         0.020833  0.008511   \n",
       "3           0.708333     0.153439      0.042328         0.130208  0.037037   \n",
       "4           0.529532     0.130165      0.061983         0.054990  0.035124   \n",
       "\n",
       "   class  \n",
       "0      1  \n",
       "1      1  \n",
       "2      1  \n",
       "3      1  \n",
       "4      1  "
      ]
     },
     "execution_count": 4,
     "metadata": {},
     "output_type": "execute_result"
    }
   ],
   "source": [
    "table, labels = get_feature_table(['sanity'], 'train')\n",
    "top_5 = get_feature_groups(['top_5_svm'], table)\n",
    "top_5['class'] = labels\n",
    "top_5.head()"
   ]
  },
  {
   "cell_type": "code",
   "execution_count": 5,
   "metadata": {},
   "outputs": [
    {
     "name": "stdout",
     "output_type": "stream",
     "text": [
      "Precision: 0.6845116677257\n",
      "Recall: 0.7392241379310345\n",
      "Accuracy: 0.7481243301178992\n",
      "F1-Score: 0.744842562432139\n"
     ]
    }
   ],
   "source": [
    "predictions = train_classify(['sanity'], LinearSVC())"
   ]
  },
  {
   "cell_type": "code",
   "execution_count": 6,
   "metadata": {},
   "outputs": [
    {
     "name": "stdout",
     "output_type": "stream",
     "text": [
      "Precision: 0.6525116151830961\n",
      "Recall: 0.6896551724137931\n",
      "Accuracy: 0.7138263665594855\n",
      "F1-Score: 0.7056229327453143\n"
     ]
    }
   ],
   "source": [
    "predictions = train_classify(['sanity'], LinearSVC(), ['top_10_svm'])"
   ]
  },
  {
   "cell_type": "code",
   "execution_count": 7,
   "metadata": {},
   "outputs": [
    {
     "name": "stdout",
     "output_type": "stream",
     "text": [
      "Precision: 0.6044733260379456\n",
      "Recall: 0.6551724137931034\n",
      "Accuracy: 0.6613076098606645\n",
      "F1-Score: 0.6580086580086579\n"
     ]
    }
   ],
   "source": [
    "predictions = train_classify(['sanity'], LinearSVC(), ['top_10_ig'])"
   ]
  },
  {
   "cell_type": "code",
   "execution_count": 8,
   "metadata": {},
   "outputs": [
    {
     "name": "stdout",
     "output_type": "stream",
     "text": [
      "Precision: 0.6442329458035534\n",
      "Recall: 0.6831896551724138\n",
      "Accuracy: 0.7052518756698821\n",
      "F1-Score: 0.6974697469746975\n"
     ]
    }
   ],
   "source": [
    "predictions = train_classify(['sanity'], LinearSVC(), ['top_10_svm', 'top_10_ig'])"
   ]
  },
  {
   "cell_type": "code",
   "execution_count": 9,
   "metadata": {},
   "outputs": [
    {
     "name": "stdout",
     "output_type": "stream",
     "text": [
      "Precision: 0.6228480705781567\n",
      "Recall: 0.6745689655172413\n",
      "Accuracy: 0.6827438370846731\n",
      "F1-Score: 0.6789587852494576\n"
     ]
    }
   ],
   "source": [
    "predictions = train_classify(['sanity'], LinearSVC(), ['top_5_svm'])"
   ]
  },
  {
   "cell_type": "code",
   "execution_count": null,
   "metadata": {},
   "outputs": [],
   "source": [
    "# Top 4 feature groups\n",
    "predictions = train_classify(['sanity'], LinearSVC(), ['complexity', 'deception', 'details', 'vagueness'])"
   ]
  },
  {
   "cell_type": "code",
   "execution_count": null,
   "metadata": {},
   "outputs": [],
   "source": [
    "# Top 2 feature groups\n",
    "predictions = train_classify(['sanity'], LinearSVC(), ['complexity', 'details'])"
   ]
  }
 ],
 "metadata": {
  "kernelspec": {
   "display_name": "Python 3",
   "language": "python",
   "name": "python3"
  },
  "language_info": {
   "codemirror_mode": {
    "name": "ipython",
    "version": 3
   },
   "file_extension": ".py",
   "mimetype": "text/x-python",
   "name": "python",
   "nbconvert_exporter": "python",
   "pygments_lexer": "ipython3",
   "version": "3.6.5"
  }
 },
 "nbformat": 4,
 "nbformat_minor": 2
}
