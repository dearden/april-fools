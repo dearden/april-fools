{
 "cells": [
  {
   "cell_type": "code",
   "execution_count": 1,
   "metadata": {},
   "outputs": [],
   "source": [
    "import pandas as pd\n",
    "import numpy as np\n",
    "import matplotlib.pyplot as plt\n",
    "import matplotlib\n",
    "\n",
    "from sklearn.svm import LinearSVC\n",
    "from sklearn.linear_model import LogisticRegression\n",
    "from sklearn.model_selection import cross_validate\n",
    "from sklearn.pipeline import Pipeline\n",
    "from sklearn.preprocessing import StandardScaler\n",
    "from sklearn import metrics\n",
    "\n",
    "import sys\n",
    "sys.path.insert(0, '../System')\n",
    "\n",
    "from classify import get_feature_table, get_feature_groups, train_classify, group_classify, train_model, test_model\n",
    "from classify import create_classification_table, create_crossval_table, create_fake_crossval_table\n",
    "\n",
    "import pickle\n",
    "\n",
    "CLF = LogisticRegression()"
   ]
  },
  {
   "cell_type": "markdown",
   "metadata": {},
   "source": [
    "Load in the tuned classifier"
   ]
  },
  {
   "cell_type": "code",
   "execution_count": 2,
   "metadata": {},
   "outputs": [],
   "source": [
    "with open(\"../System/clfs/standard_linear_svc.sav\", 'rb') as file:\n",
    "    tuned_clf = pickle.load(file)"
   ]
  },
  {
   "cell_type": "markdown",
   "metadata": {},
   "source": [
    "Cross Val Score (tuned)"
   ]
  },
  {
   "cell_type": "code",
   "execution_count": 3,
   "metadata": {},
   "outputs": [
    {
     "name": "stdout",
     "output_type": "stream",
     "text": [
      "Precision: 0.6784768440688114\n",
      "Recall: 0.7225433526011561\n",
      "Accuracy: 0.7389210019267822\n",
      "F1-Score: 0.7345739471106758\n"
     ]
    }
   ],
   "source": [
    "cv_tuned = train_classify(['feats'], tuned_clf)"
   ]
  },
  {
   "cell_type": "markdown",
   "metadata": {},
   "source": [
    "CV Score (untuned)"
   ]
  },
  {
   "cell_type": "code",
   "execution_count": 4,
   "metadata": {},
   "outputs": [
    {
     "name": "stdout",
     "output_type": "stream",
     "text": [
      "Precision: 0.6773241811175337\n",
      "Recall: 0.7321772639691715\n",
      "Accuracy: 0.7389210019267822\n",
      "F1-Score: 0.737148399612027\n"
     ]
    }
   ],
   "source": [
    "cv_untuned = train_classify(['feats'], CLF)"
   ]
  },
  {
   "cell_type": "markdown",
   "metadata": {},
   "source": [
    "Confusion Matrix"
   ]
  },
  {
   "cell_type": "code",
   "execution_count": 5,
   "metadata": {},
   "outputs": [
    {
     "name": "stdout",
     "output_type": "stream",
     "text": [
      "Precision: 0.6773241811175337\n",
      "Recall: 0.7321772639691715\n",
      "Accuracy: 0.7389210019267822\n",
      "F1-Score: 0.737148399612027\n",
      "[[387 132]\n",
      " [139 380]]\n"
     ]
    }
   ],
   "source": [
    "conf = train_classify(['feats'], CLF, confusion=True)"
   ]
  },
  {
   "cell_type": "markdown",
   "metadata": {},
   "source": [
    "Group Scores"
   ]
  },
  {
   "cell_type": "code",
   "execution_count": 6,
   "metadata": {},
   "outputs": [
    {
     "name": "stdout",
     "output_type": "stream",
     "text": [
      "\n",
      "complexity\n",
      "Precision: 0.6027095148078134\n",
      "Recall: 0.6666666666666666\n",
      "Accuracy: 0.6570327552986512\n",
      "F1-Score: 0.6603053435114504\n",
      "\n",
      "deception\n",
      "Precision: 0.569158848984491\n",
      "Recall: 0.581888246628131\n",
      "Accuracy: 0.6117533718689788\n",
      "F1-Score: 0.5998013902681232\n",
      "\n",
      "details\n",
      "Precision: 0.6039600547006976\n",
      "Recall: 0.6416184971098265\n",
      "Accuracy: 0.6570327552986512\n",
      "F1-Score: 0.6516634050880625\n",
      "\n",
      "formality\n",
      "Precision: 0.5455606218360679\n",
      "Recall: 0.5433526011560693\n",
      "Accuracy: 0.5780346820809249\n",
      "F1-Score: 0.5628742514970059\n",
      "\n",
      "humour\n",
      "Precision: 0.542263890847001\n",
      "Recall: 0.5472061657032755\n",
      "Accuracy: 0.5732177263969171\n",
      "F1-Score: 0.5618199802176064\n",
      "\n",
      "imagination\n",
      "Precision: 0.5589211524566474\n",
      "Recall: 0.5915221579961464\n",
      "Accuracy: 0.5982658959537572\n",
      "F1-Score: 0.5955383123181378\n",
      "\n",
      "vagueness\n",
      "Precision: 0.5763811002789521\n",
      "Recall: 0.6396917148362236\n",
      "Accuracy: 0.6233140655105973\n",
      "F1-Score: 0.6293838862559242\n",
      "\n",
      "all\n",
      "Precision: 0.6773241811175337\n",
      "Recall: 0.7321772639691715\n",
      "Accuracy: 0.7389210019267822\n",
      "F1-Score: 0.737148399612027\n"
     ]
    },
    {
     "data": {
      "text/html": [
       "<div>\n",
       "<style scoped>\n",
       "    .dataframe tbody tr th:only-of-type {\n",
       "        vertical-align: middle;\n",
       "    }\n",
       "\n",
       "    .dataframe tbody tr th {\n",
       "        vertical-align: top;\n",
       "    }\n",
       "\n",
       "    .dataframe thead th {\n",
       "        text-align: right;\n",
       "    }\n",
       "</style>\n",
       "<table border=\"1\" class=\"dataframe\">\n",
       "  <thead>\n",
       "    <tr style=\"text-align: right;\">\n",
       "      <th></th>\n",
       "      <th>precision</th>\n",
       "      <th>recall</th>\n",
       "      <th>accuracy</th>\n",
       "      <th>f1</th>\n",
       "    </tr>\n",
       "    <tr>\n",
       "      <th>group</th>\n",
       "      <th></th>\n",
       "      <th></th>\n",
       "      <th></th>\n",
       "      <th></th>\n",
       "    </tr>\n",
       "  </thead>\n",
       "  <tbody>\n",
       "    <tr>\n",
       "      <th>complexity</th>\n",
       "      <td>0.602710</td>\n",
       "      <td>0.666667</td>\n",
       "      <td>0.657033</td>\n",
       "      <td>0.660305</td>\n",
       "    </tr>\n",
       "    <tr>\n",
       "      <th>deception</th>\n",
       "      <td>0.569159</td>\n",
       "      <td>0.581888</td>\n",
       "      <td>0.611753</td>\n",
       "      <td>0.599801</td>\n",
       "    </tr>\n",
       "    <tr>\n",
       "      <th>details</th>\n",
       "      <td>0.603960</td>\n",
       "      <td>0.641618</td>\n",
       "      <td>0.657033</td>\n",
       "      <td>0.651663</td>\n",
       "    </tr>\n",
       "    <tr>\n",
       "      <th>formality</th>\n",
       "      <td>0.545561</td>\n",
       "      <td>0.543353</td>\n",
       "      <td>0.578035</td>\n",
       "      <td>0.562874</td>\n",
       "    </tr>\n",
       "    <tr>\n",
       "      <th>humour</th>\n",
       "      <td>0.542264</td>\n",
       "      <td>0.547206</td>\n",
       "      <td>0.573218</td>\n",
       "      <td>0.561820</td>\n",
       "    </tr>\n",
       "    <tr>\n",
       "      <th>imagination</th>\n",
       "      <td>0.558921</td>\n",
       "      <td>0.591522</td>\n",
       "      <td>0.598266</td>\n",
       "      <td>0.595538</td>\n",
       "    </tr>\n",
       "    <tr>\n",
       "      <th>vagueness</th>\n",
       "      <td>0.576381</td>\n",
       "      <td>0.639692</td>\n",
       "      <td>0.623314</td>\n",
       "      <td>0.629384</td>\n",
       "    </tr>\n",
       "    <tr>\n",
       "      <th>all</th>\n",
       "      <td>0.677324</td>\n",
       "      <td>0.732177</td>\n",
       "      <td>0.738921</td>\n",
       "      <td>0.737148</td>\n",
       "    </tr>\n",
       "  </tbody>\n",
       "</table>\n",
       "</div>"
      ],
      "text/plain": [
       "             precision    recall  accuracy        f1\n",
       "group                                               \n",
       "complexity    0.602710  0.666667  0.657033  0.660305\n",
       "deception     0.569159  0.581888  0.611753  0.599801\n",
       "details       0.603960  0.641618  0.657033  0.651663\n",
       "formality     0.545561  0.543353  0.578035  0.562874\n",
       "humour        0.542264  0.547206  0.573218  0.561820\n",
       "imagination   0.558921  0.591522  0.598266  0.595538\n",
       "vagueness     0.576381  0.639692  0.623314  0.629384\n",
       "all           0.677324  0.732177  0.738921  0.737148"
      ]
     },
     "execution_count": 6,
     "metadata": {},
     "output_type": "execute_result"
    }
   ],
   "source": [
    "group_scores = group_classify(CLF)\n",
    "group_scores"
   ]
  },
  {
   "cell_type": "code",
   "execution_count": 7,
   "metadata": {},
   "outputs": [
    {
     "name": "stdout",
     "output_type": "stream",
     "text": [
      "\\begin{tabular}{lrrrr}\n",
      "\\toprule\n",
      "{} &  precision &  recall &  accuracy &     f1 \\\\\n",
      "group       &            &         &           &        \\\\\n",
      "\\midrule\n",
      "complexity  &      0.603 &   0.667 &     0.657 &  0.660 \\\\\n",
      "deception   &      0.569 &   0.582 &     0.612 &  0.600 \\\\\n",
      "details     &      0.604 &   0.642 &     0.657 &  0.652 \\\\\n",
      "formality   &      0.546 &   0.543 &     0.578 &  0.563 \\\\\n",
      "humour      &      0.542 &   0.547 &     0.573 &  0.562 \\\\\n",
      "imagination &      0.559 &   0.592 &     0.598 &  0.596 \\\\\n",
      "vagueness   &      0.576 &   0.640 &     0.623 &  0.629 \\\\\n",
      "all         &      0.677 &   0.732 &     0.739 &  0.737 \\\\\n",
      "\\bottomrule\n",
      "\\end{tabular}\n",
      "\n"
     ]
    }
   ],
   "source": [
    "print(group_scores.round(3).to_latex())"
   ]
  },
  {
   "cell_type": "markdown",
   "metadata": {},
   "source": [
    "Performance of just Complexity & Detail Features"
   ]
  },
  {
   "cell_type": "code",
   "execution_count": 8,
   "metadata": {},
   "outputs": [
    {
     "name": "stdout",
     "output_type": "stream",
     "text": [
      "Precision: 0.6512390545412923\n",
      "Recall: 0.697495183044316\n",
      "Accuracy: 0.7109826589595376\n",
      "F1-Score: 0.7070312500000001\n"
     ]
    }
   ],
   "source": [
    "complex_detail = train_classify(['feats'], CLF, groups=['complexity', 'details'])"
   ]
  },
  {
   "cell_type": "markdown",
   "metadata": {},
   "source": [
    "Cross val score of feats for fake news"
   ]
  },
  {
   "cell_type": "code",
   "execution_count": 9,
   "metadata": {
    "scrolled": true
   },
   "outputs": [
    {
     "name": "stdout",
     "output_type": "stream",
     "text": [
      "Precision: 0.7041146125994432\n",
      "Recall: 0.7317073170731707\n",
      "Accuracy: 0.7689243027888446\n",
      "F1-Score: 0.7563025210084033\n",
      "[[103  25]\n",
      " [ 33  90]]\n"
     ]
    }
   ],
   "source": [
    "cv_fake = train_classify(['fake_news_feats'], CLF, confusion=True)"
   ]
  },
  {
   "cell_type": "code",
   "execution_count": 10,
   "metadata": {},
   "outputs": [
    {
     "name": "stdout",
     "output_type": "stream",
     "text": [
      "Precision: 0.7141828350554422\n",
      "Recall: 0.7642276422764228\n",
      "Accuracy: 0.7808764940239044\n",
      "F1-Score: 0.7736625514403292\n"
     ]
    }
   ],
   "source": [
    "complex_detail = train_classify(['fake_news_feats'], CLF, groups=['complexity', 'details'])"
   ]
  },
  {
   "cell_type": "markdown",
   "metadata": {},
   "source": [
    "Train on April Fools and test on Fake News with hoax set"
   ]
  },
  {
   "cell_type": "code",
   "execution_count": 11,
   "metadata": {},
   "outputs": [
    {
     "name": "stdout",
     "output_type": "stream",
     "text": [
      "Precision: 0.557803649534288\n",
      "Recall: 0.5528455284552846\n",
      "Accuracy: 0.6095617529880478\n",
      "F1-Score: 0.5811965811965812\n"
     ]
    }
   ],
   "source": [
    "af_trained_model = train_model(['feats'], CLF)\n",
    "af_fake = test_model(['fake_news_feats'], af_trained_model)"
   ]
  },
  {
   "cell_type": "markdown",
   "metadata": {},
   "source": [
    "Cross val score of BoW for fake news"
   ]
  },
  {
   "cell_type": "code",
   "execution_count": 12,
   "metadata": {},
   "outputs": [
    {
     "name": "stdout",
     "output_type": "stream",
     "text": [
      "Precision: 0.725101237490704\n",
      "Recall: 0.6747967479674797\n",
      "Accuracy: 0.7768924302788844\n",
      "F1-Score: 0.7477477477477478\n",
      "[[112  16]\n",
      " [ 40  83]]\n"
     ]
    }
   ],
   "source": [
    "cv_fake = train_classify(['fake_news_bow'], CLF, confusion=True)"
   ]
  },
  {
   "cell_type": "markdown",
   "metadata": {},
   "source": [
    "Train on AF and test on FN with BoW"
   ]
  },
  {
   "cell_type": "code",
   "execution_count": 13,
   "metadata": {},
   "outputs": [
    {
     "name": "stdout",
     "output_type": "stream",
     "text": [
      "Precision: 0.46776814741157624\n",
      "Recall: 0.4796747967479675\n",
      "Accuracy: 0.450199203187251\n",
      "F1-Score: 0.46093749999999994\n"
     ]
    }
   ],
   "source": [
    "af_trained_model = train_model(['bow'], CLF)\n",
    "af_fake = test_model(['fake_news_bow'], af_trained_model)"
   ]
  },
  {
   "cell_type": "markdown",
   "metadata": {},
   "source": [
    "Get Results Table"
   ]
  },
  {
   "cell_type": "code",
   "execution_count": 14,
   "metadata": {},
   "outputs": [
    {
     "name": "stdout",
     "output_type": "stream",
     "text": [
      "\n",
      "complexity\n",
      "Precision: 0.6027095148078134\n",
      "Recall: 0.6666666666666666\n",
      "Accuracy: 0.6570327552986512\n",
      "F1-Score: 0.6603053435114504\n",
      "\n",
      "deception\n",
      "Precision: 0.569158848984491\n",
      "Recall: 0.581888246628131\n",
      "Accuracy: 0.6117533718689788\n",
      "F1-Score: 0.5998013902681232\n",
      "\n",
      "details\n",
      "Precision: 0.6039600547006976\n",
      "Recall: 0.6416184971098265\n",
      "Accuracy: 0.6570327552986512\n",
      "F1-Score: 0.6516634050880625\n",
      "\n",
      "formality\n",
      "Precision: 0.5455606218360679\n",
      "Recall: 0.5433526011560693\n",
      "Accuracy: 0.5780346820809249\n",
      "F1-Score: 0.5628742514970059\n",
      "\n",
      "humour\n",
      "Precision: 0.542263890847001\n",
      "Recall: 0.5472061657032755\n",
      "Accuracy: 0.5732177263969171\n",
      "F1-Score: 0.5618199802176064\n",
      "\n",
      "imagination\n",
      "Precision: 0.5589211524566474\n",
      "Recall: 0.5915221579961464\n",
      "Accuracy: 0.5982658959537572\n",
      "F1-Score: 0.5955383123181378\n",
      "\n",
      "vagueness\n",
      "Precision: 0.5763811002789521\n",
      "Recall: 0.6396917148362236\n",
      "Accuracy: 0.6233140655105973\n",
      "F1-Score: 0.6293838862559242\n",
      "\n",
      "Complexity + Detail\n",
      "Precision: 0.6512390545412923\n",
      "Recall: 0.697495183044316\n",
      "Accuracy: 0.7109826589595376\n",
      "F1-Score: 0.7070312500000001\n",
      "\n",
      "Selection\n",
      "Precision: 0.6573551279614493\n",
      "Recall: 0.7167630057803468\n",
      "Accuracy: 0.7186897880539499\n",
      "F1-Score: 0.7181467181467182\n",
      "\n",
      "Top 6\n",
      "Precision: 0.6342678985936007\n",
      "Recall: 0.6820809248554913\n",
      "Accuracy: 0.6926782273603083\n",
      "F1-Score: 0.6893865628042843\n",
      "\n",
      "feats\n",
      "Precision: 0.6773241811175337\n",
      "Recall: 0.7321772639691715\n",
      "Accuracy: 0.7389210019267822\n",
      "F1-Score: 0.737148399612027\n",
      "\n",
      "bow\n",
      "Precision: 0.7445744824250498\n",
      "Recall: 0.766859344894027\n",
      "Accuracy: 0.7986512524084779\n",
      "F1-Score: 0.7920398009950249\n",
      "\n",
      "bow + feats\n",
      "Precision: 0.7619915815638594\n",
      "Recall: 0.789980732177264\n",
      "Accuracy: 0.815028901734104\n",
      "F1-Score: 0.8102766798418971\n",
      "\n",
      "all\n",
      "Precision: 0.7619915815638594\n",
      "Recall: 0.789980732177264\n",
      "Accuracy: 0.815028901734104\n",
      "F1-Score: 0.8102766798418971\n"
     ]
    }
   ],
   "source": [
    "crossval_table = create_crossval_table(classifier=CLF)"
   ]
  },
  {
   "cell_type": "code",
   "execution_count": 15,
   "metadata": {},
   "outputs": [],
   "source": [
    "crossval_table = crossval_table.round(3)"
   ]
  },
  {
   "cell_type": "code",
   "execution_count": 16,
   "metadata": {},
   "outputs": [
    {
     "name": "stdout",
     "output_type": "stream",
     "text": [
      "\\begin{tabular}{lrrr}\n",
      "\\toprule\n",
      "{} &  precision &  recall &     f1 \\\\\n",
      "Features    &            &         &        \\\\\n",
      "\\midrule\n",
      "complexity  &      0.603 &   0.667 &  0.660 \\\\\n",
      "deception   &      0.569 &   0.582 &  0.600 \\\\\n",
      "details     &      0.604 &   0.642 &  0.652 \\\\\n",
      "formality   &      0.546 &   0.543 &  0.563 \\\\\n",
      "humour      &      0.542 &   0.547 &  0.562 \\\\\n",
      "imagination &      0.559 &   0.592 &  0.596 \\\\\n",
      "vagueness   &      0.576 &   0.640 &  0.629 \\\\\n",
      "feats       &      0.677 &   0.732 &  0.737 \\\\\n",
      "comp + det  &      0.651 &   0.697 &  0.707 \\\\\n",
      "selection   &      0.657 &   0.717 &  0.718 \\\\\n",
      "top\\_6       &      0.634 &   0.682 &  0.689 \\\\\n",
      "bow         &      0.745 &   0.767 &  0.792 \\\\\n",
      "bow + feats &      0.762 &   0.790 &  0.810 \\\\\n",
      "all         &      0.762 &   0.790 &  0.810 \\\\\n",
      "\\bottomrule\n",
      "\\end{tabular}\n",
      "\n"
     ]
    }
   ],
   "source": [
    "print(crossval_table.loc[:, crossval_table.columns != 'accuracy'].to_latex())"
   ]
  },
  {
   "cell_type": "code",
   "execution_count": 17,
   "metadata": {},
   "outputs": [
    {
     "name": "stdout",
     "output_type": "stream",
     "text": [
      "\n",
      "complexity\n",
      "Precision: 0.6693800158963894\n",
      "Recall: 0.7073170731707317\n",
      "Accuracy: 0.7370517928286853\n",
      "F1-Score: 0.725\n",
      "\n",
      "deception\n",
      "Precision: 0.5169791764068132\n",
      "Recall: 0.4715447154471545\n",
      "Accuracy: 0.549800796812749\n",
      "F1-Score: 0.5065502183406113\n",
      "\n",
      "details\n",
      "Precision: 0.6203850977490694\n",
      "Recall: 0.6422764227642277\n",
      "Accuracy: 0.6852589641434262\n",
      "F1-Score: 0.6666666666666667\n",
      "\n",
      "formality\n",
      "Precision: 0.5624526285103488\n",
      "Recall: 0.6585365853658537\n",
      "Accuracy: 0.6175298804780877\n",
      "F1-Score: 0.627906976744186\n",
      "\n",
      "humour\n",
      "Precision: 0.48419641627298804\n",
      "Recall: 0.3821138211382114\n",
      "Accuracy: 0.4900398406374502\n",
      "F1-Score: 0.4234234234234235\n",
      "\n",
      "imagination\n",
      "Precision: 0.4505447046502338\n",
      "Recall: 0.25203252032520324\n",
      "Accuracy: 0.38645418326693226\n",
      "F1-Score: 0.287037037037037\n",
      "\n",
      "vagueness\n",
      "Precision: 0.5297437831280978\n",
      "Recall: 0.5040650406504065\n",
      "Accuracy: 0.5697211155378487\n",
      "F1-Score: 0.5344827586206896\n",
      "\n",
      "Complexity + Detail\n",
      "Precision: 0.7141828350554422\n",
      "Recall: 0.7642276422764228\n",
      "Accuracy: 0.7808764940239044\n",
      "F1-Score: 0.7736625514403292\n",
      "\n",
      "Selection\n",
      "Precision: 0.7104216868945615\n",
      "Recall: 0.7560975609756098\n",
      "Accuracy: 0.7768924302788844\n",
      "F1-Score: 0.7685950413223139\n",
      "\n",
      "Top 6\n",
      "Precision: 0.6328684993466093\n",
      "Recall: 0.6910569105691057\n",
      "Accuracy: 0.701195219123506\n",
      "F1-Score: 0.6938775510204082\n",
      "\n",
      "fake_news_feats\n",
      "Precision: 0.7041146125994432\n",
      "Recall: 0.7317073170731707\n",
      "Accuracy: 0.7689243027888446\n",
      "F1-Score: 0.7563025210084033\n",
      "\n",
      "fake_news_bow\n",
      "Precision: 0.725101237490704\n",
      "Recall: 0.6747967479674797\n",
      "Accuracy: 0.7768924302788844\n",
      "F1-Score: 0.7477477477477478\n",
      "\n",
      "bow + feats\n",
      "Precision: 0.7069732327724748\n",
      "Recall: 0.6829268292682927\n",
      "Accuracy: 0.7649402390438247\n",
      "F1-Score: 0.7400881057268723\n",
      "\\begin{tabular}{lrrr}\n",
      "\\toprule\n",
      "{} &  precision &  recall &     f1 \\\\\n",
      "Features        &            &         &        \\\\\n",
      "\\midrule\n",
      "complexity      &      0.669 &   0.707 &  0.725 \\\\\n",
      "deception       &      0.517 &   0.472 &  0.507 \\\\\n",
      "details         &      0.620 &   0.642 &  0.667 \\\\\n",
      "formality       &      0.562 &   0.659 &  0.628 \\\\\n",
      "humour          &      0.484 &   0.382 &  0.423 \\\\\n",
      "imagination     &      0.451 &   0.252 &  0.287 \\\\\n",
      "vagueness       &      0.530 &   0.504 &  0.534 \\\\\n",
      "fake\\_news\\_feats &      0.704 &   0.732 &  0.756 \\\\\n",
      "comp + det      &      0.714 &   0.764 &  0.774 \\\\\n",
      "selection       &      0.710 &   0.756 &  0.769 \\\\\n",
      "top\\_6           &      0.633 &   0.691 &  0.694 \\\\\n",
      "fake\\_news\\_bow   &      0.725 &   0.675 &  0.748 \\\\\n",
      "bow + feats     &      0.707 &   0.683 &  0.740 \\\\\n",
      "\\bottomrule\n",
      "\\end{tabular}\n",
      "\n"
     ]
    }
   ],
   "source": [
    "fake_results = create_fake_crossval_table(classifier=LogisticRegression()).round(3)\n",
    "print(fake_results.loc[:, fake_results.columns != 'accuracy'].to_latex())"
   ]
  },
  {
   "cell_type": "markdown",
   "metadata": {},
   "source": [
    "Make Cross Val Table for Paper"
   ]
  },
  {
   "cell_type": "code",
   "execution_count": 18,
   "metadata": {},
   "outputs": [
    {
     "data": {
      "text/html": [
       "<div>\n",
       "<style scoped>\n",
       "    .dataframe tbody tr th:only-of-type {\n",
       "        vertical-align: middle;\n",
       "    }\n",
       "\n",
       "    .dataframe tbody tr th {\n",
       "        vertical-align: top;\n",
       "    }\n",
       "\n",
       "    .dataframe thead th {\n",
       "        text-align: right;\n",
       "    }\n",
       "</style>\n",
       "<table border=\"1\" class=\"dataframe\">\n",
       "  <thead>\n",
       "    <tr style=\"text-align: right;\">\n",
       "      <th></th>\n",
       "      <th>April Fools</th>\n",
       "    </tr>\n",
       "  </thead>\n",
       "  <tbody>\n",
       "    <tr>\n",
       "      <th>Complexity</th>\n",
       "      <td>0.657</td>\n",
       "    </tr>\n",
       "    <tr>\n",
       "      <th>Deception</th>\n",
       "      <td>0.612</td>\n",
       "    </tr>\n",
       "    <tr>\n",
       "      <th>Details</th>\n",
       "      <td>0.657</td>\n",
       "    </tr>\n",
       "    <tr>\n",
       "      <th>Formality</th>\n",
       "      <td>0.578</td>\n",
       "    </tr>\n",
       "    <tr>\n",
       "      <th>Humour</th>\n",
       "      <td>0.573</td>\n",
       "    </tr>\n",
       "    <tr>\n",
       "      <th>Imagination</th>\n",
       "      <td>0.598</td>\n",
       "    </tr>\n",
       "    <tr>\n",
       "      <th>Vagueness</th>\n",
       "      <td>0.623</td>\n",
       "    </tr>\n",
       "    <tr>\n",
       "      <th>Hoax Set</th>\n",
       "      <td>0.739</td>\n",
       "    </tr>\n",
       "    <tr>\n",
       "      <th>Complex-Detail</th>\n",
       "      <td>0.711</td>\n",
       "    </tr>\n",
       "    <tr>\n",
       "      <th>Selection</th>\n",
       "      <td>0.719</td>\n",
       "    </tr>\n",
       "    <tr>\n",
       "      <th>Bag-of-Words</th>\n",
       "      <td>0.799</td>\n",
       "    </tr>\n",
       "    <tr>\n",
       "      <th>BoW + Hoax</th>\n",
       "      <td>0.815</td>\n",
       "    </tr>\n",
       "  </tbody>\n",
       "</table>\n",
       "</div>"
      ],
      "text/plain": [
       "                April Fools\n",
       "Complexity            0.657\n",
       "Deception             0.612\n",
       "Details               0.657\n",
       "Formality             0.578\n",
       "Humour                0.573\n",
       "Imagination           0.598\n",
       "Vagueness             0.623\n",
       "Hoax Set              0.739\n",
       "Complex-Detail        0.711\n",
       "Selection             0.719\n",
       "Bag-of-Words          0.799\n",
       "BoW + Hoax            0.815"
      ]
     },
     "execution_count": 18,
     "metadata": {},
     "output_type": "execute_result"
    }
   ],
   "source": [
    "accs_af = crossval_table.loc[:, crossval_table.columns == 'accuracy']\n",
    "accs_af.columns = [\"April Fools\"]\n",
    "\n",
    "accs_af = accs_af.drop(['top_6', 'all'])\n",
    "accs_af.index = ['Complexity', 'Deception', 'Details', 'Formality', 'Humour', 'Imagination',\n",
    "                'Vagueness', 'Hoax Set', 'Complex-Detail', 'Selection', 'Bag-of-Words', 'BoW + Hoax']\n",
    "accs_af"
   ]
  },
  {
   "cell_type": "code",
   "execution_count": 19,
   "metadata": {},
   "outputs": [
    {
     "data": {
      "text/html": [
       "<div>\n",
       "<style scoped>\n",
       "    .dataframe tbody tr th:only-of-type {\n",
       "        vertical-align: middle;\n",
       "    }\n",
       "\n",
       "    .dataframe tbody tr th {\n",
       "        vertical-align: top;\n",
       "    }\n",
       "\n",
       "    .dataframe thead th {\n",
       "        text-align: right;\n",
       "    }\n",
       "</style>\n",
       "<table border=\"1\" class=\"dataframe\">\n",
       "  <thead>\n",
       "    <tr style=\"text-align: right;\">\n",
       "      <th></th>\n",
       "      <th>Fake News</th>\n",
       "    </tr>\n",
       "  </thead>\n",
       "  <tbody>\n",
       "    <tr>\n",
       "      <th>Complexity</th>\n",
       "      <td>0.737</td>\n",
       "    </tr>\n",
       "    <tr>\n",
       "      <th>Deception</th>\n",
       "      <td>0.550</td>\n",
       "    </tr>\n",
       "    <tr>\n",
       "      <th>Details</th>\n",
       "      <td>0.685</td>\n",
       "    </tr>\n",
       "    <tr>\n",
       "      <th>Formality</th>\n",
       "      <td>0.618</td>\n",
       "    </tr>\n",
       "    <tr>\n",
       "      <th>Humour</th>\n",
       "      <td>0.490</td>\n",
       "    </tr>\n",
       "    <tr>\n",
       "      <th>Imagination</th>\n",
       "      <td>0.386</td>\n",
       "    </tr>\n",
       "    <tr>\n",
       "      <th>Vagueness</th>\n",
       "      <td>0.570</td>\n",
       "    </tr>\n",
       "    <tr>\n",
       "      <th>Hoax Set</th>\n",
       "      <td>0.769</td>\n",
       "    </tr>\n",
       "    <tr>\n",
       "      <th>Complex-Detail</th>\n",
       "      <td>0.781</td>\n",
       "    </tr>\n",
       "    <tr>\n",
       "      <th>Selection</th>\n",
       "      <td>0.777</td>\n",
       "    </tr>\n",
       "    <tr>\n",
       "      <th>Bag-of-Words</th>\n",
       "      <td>0.777</td>\n",
       "    </tr>\n",
       "    <tr>\n",
       "      <th>BoW + Hoax</th>\n",
       "      <td>0.765</td>\n",
       "    </tr>\n",
       "  </tbody>\n",
       "</table>\n",
       "</div>"
      ],
      "text/plain": [
       "                Fake News\n",
       "Complexity          0.737\n",
       "Deception           0.550\n",
       "Details             0.685\n",
       "Formality           0.618\n",
       "Humour              0.490\n",
       "Imagination         0.386\n",
       "Vagueness           0.570\n",
       "Hoax Set            0.769\n",
       "Complex-Detail      0.781\n",
       "Selection           0.777\n",
       "Bag-of-Words        0.777\n",
       "BoW + Hoax          0.765"
      ]
     },
     "execution_count": 19,
     "metadata": {},
     "output_type": "execute_result"
    }
   ],
   "source": [
    "accs_fake = fake_results.loc[:, fake_results.columns == 'accuracy']\n",
    "accs_fake.columns = ['Fake News']\n",
    "\n",
    "accs_fake = accs_fake.drop(['top_6'])\n",
    "accs_fake.index = ['Complexity', 'Deception', 'Details', 'Formality', 'Humour', 'Imagination',\n",
    "                'Vagueness', 'Hoax Set', 'Complex-Detail', 'Selection', 'Bag-of-Words', 'BoW + Hoax']\n",
    "\n",
    "accs_fake"
   ]
  },
  {
   "cell_type": "code",
   "execution_count": 20,
   "metadata": {},
   "outputs": [
    {
     "name": "stdout",
     "output_type": "stream",
     "text": [
      "\\begin{tabular}{lrr}\n",
      "\\toprule\n",
      "{} &  April Fools &  Fake News \\\\\n",
      "\\midrule\n",
      "Complexity     &        0.657 &      0.737 \\\\\n",
      "Deception      &        0.612 &      0.550 \\\\\n",
      "Details        &        0.657 &      0.685 \\\\\n",
      "Formality      &        0.578 &      0.618 \\\\\n",
      "Humour         &        0.573 &      0.490 \\\\\n",
      "Imagination    &        0.598 &      0.386 \\\\\n",
      "Vagueness      &        0.623 &      0.570 \\\\\n",
      "Hoax Set       &        0.739 &      0.769 \\\\\n",
      "Complex-Detail &        0.711 &      0.781 \\\\\n",
      "Selection      &        0.719 &      0.777 \\\\\n",
      "Bag-of-Words   &        0.799 &      0.777 \\\\\n",
      "BoW + Hoax     &        0.815 &      0.765 \\\\\n",
      "\\bottomrule\n",
      "\\end{tabular}\n",
      "\n"
     ]
    }
   ],
   "source": [
    "print(pd.concat([accs_af, accs_fake], axis=1).to_latex())"
   ]
  },
  {
   "cell_type": "markdown",
   "metadata": {},
   "source": [
    "Make the cross validation chart!"
   ]
  },
  {
   "cell_type": "code",
   "execution_count": 21,
   "metadata": {},
   "outputs": [],
   "source": [
    "pipeline = Pipeline([\n",
    "            ('normalizer', StandardScaler()),           # Step1 - normalize data\n",
    "            ('clf', LogisticRegression())               # Step2 - classifier\n",
    "            ])\n",
    "\n",
    "scoring = ['accuracy']"
   ]
  },
  {
   "cell_type": "code",
   "execution_count": 22,
   "metadata": {},
   "outputs": [],
   "source": [
    "feats = pd.read_csv(\"../System/feats_train.csv\")\n",
    "feats.set_index('index', inplace=True)\n",
    "af_labels = feats[\"class\"]\n",
    "feats.drop('class', axis=1, inplace=True)\n",
    "\n",
    "bow = pd.read_csv(\"../System/bow_train.csv\")\n",
    "bow.set_index('index', inplace=True)\n",
    "bow.drop('class', axis=1, inplace=True)\n",
    "\n",
    "fakes = pd.read_csv(\"../System/fake_news_feats_train.csv\")\n",
    "fakes.set_index('index', inplace=True)\n",
    "fake_labels = fakes[\"class\"]\n",
    "fakes.drop('class', axis=1, inplace=True)\n",
    "\n",
    "fake_bow = pd.read_csv(\"../System/fake_news_bow_train.csv\")\n",
    "fake_bow.set_index('index', inplace=True)\n",
    "fake_bow.drop('class', axis=1, inplace=True)"
   ]
  },
  {
   "cell_type": "markdown",
   "metadata": {},
   "source": [
    "Build the dictionary of feature tables."
   ]
  },
  {
   "cell_type": "code",
   "execution_count": 23,
   "metadata": {},
   "outputs": [],
   "source": [
    "feature_set_names = ['complexity', 'deception', 'details', 'formality', 'humour', 'imagination', 'vagueness']\n",
    "selection_feats = ['avg_sentence_len', 'body_punctuation', 'readability', 'lexical_diversity',\n",
    "                   'fp_pronouns', 'time_related', 'sense_words', 'proper_nouns', 'ap_date',\n",
    "                   'ap_num', 'preposition', 'adjectives', 'ima_conjunctions', 'degree_adverbs']\n",
    "\n",
    "feature_sets = dict()\n",
    "\n",
    "for name in feature_set_names:\n",
    "    curr = []\n",
    "    with open(\"feature_sets/{}.txt\".format(name)) as file:\n",
    "        for line in file:\n",
    "            if '-' not in line:\n",
    "                curr.append(line.strip())\n",
    "    feature_sets[name] = curr"
   ]
  },
  {
   "cell_type": "markdown",
   "metadata": {},
   "source": [
    "Build AF Feature Tables"
   ]
  },
  {
   "cell_type": "code",
   "execution_count": 24,
   "metadata": {},
   "outputs": [],
   "source": [
    "af_feature_tables = dict()\n",
    "af_scores = dict()\n",
    "\n",
    "for name in feature_set_names:\n",
    "    af_feature_tables[name] = feats.loc[:, feature_sets[name]]\n",
    "    \n",
    "af_feature_tables['Hoax Set'] = feats\n",
    "af_feature_tables['Complexity + Detail'] = pd.concat([af_feature_tables['complexity'],\n",
    "                                                     af_feature_tables['details']], axis=1)\n",
    "af_feature_tables['Selection'] = feats.loc[:, selection_feats]\n",
    "af_feature_tables['Bag-of-Words'] = bow\n",
    "af_feature_tables['BoW + Hoax'] = pd.concat([feats, bow], axis=1)\n",
    "    \n",
    "for name in af_feature_tables.keys():\n",
    "    af_scores[name] = cross_validate(pipeline, af_feature_tables[name],\n",
    "                                 af_labels, scoring=scoring, cv=10)"
   ]
  },
  {
   "cell_type": "markdown",
   "metadata": {},
   "source": [
    "Build Fake News Feature Tables"
   ]
  },
  {
   "cell_type": "code",
   "execution_count": 25,
   "metadata": {},
   "outputs": [],
   "source": [
    "def train_af_test_fake(af_table, fake_table, training_labels, testing_labels):\n",
    "    scaled_af = StandardScaler().fit_transform(af_table)\n",
    "    classifier = CLF.fit(scaled_af, training_labels)\n",
    "    scaled_fake = StandardScaler().fit_transform(fake_table)\n",
    "    predicted = classifier.predict(scaled_fake)\n",
    "    return metrics.accuracy_score(testing_labels, predicted)"
   ]
  },
  {
   "cell_type": "code",
   "execution_count": 26,
   "metadata": {},
   "outputs": [],
   "source": [
    "fake_feature_tables = dict()\n",
    "fake_scores = dict()\n",
    "fake_trained_on_af = dict()\n",
    "\n",
    "for name in feature_set_names:\n",
    "    fake_feature_tables[name] = fakes.loc[:, feature_sets[name]]\n",
    "    \n",
    "fake_feature_tables['Hoax Set'] = fakes\n",
    "fake_feature_tables['Complexity + Detail'] = pd.concat([fake_feature_tables['complexity'],\n",
    "                                                     fake_feature_tables['details']], axis=1)\n",
    "fake_feature_tables['Selection'] = fakes.loc[:, selection_feats]\n",
    "fake_feature_tables['Bag-of-Words'] = fake_bow\n",
    "fake_feature_tables['BoW + Hoax'] = pd.concat([fakes, fake_bow], axis=1)\n",
    "    \n",
    "for name in fake_feature_tables.keys():\n",
    "    fake_scores[name] = cross_validate(pipeline, fake_feature_tables[name],\n",
    "                                 fake_labels, scoring=scoring, cv=10)\n",
    "    fake_trained_on_af[name] = train_af_test_fake(af_feature_tables[name],\n",
    "                                                 fake_feature_tables[name],\n",
    "                                                 af_labels, fake_labels)"
   ]
  },
  {
   "cell_type": "markdown",
   "metadata": {},
   "source": [
    "Get Cross-Val Scores"
   ]
  },
  {
   "cell_type": "code",
   "execution_count": 27,
   "metadata": {},
   "outputs": [],
   "source": [
    "af_test_scores = dict()\n",
    "for name in af_feature_tables.keys():\n",
    "    af_test_scores[name] = af_scores[name]['test_accuracy']\n",
    "    \n",
    "af_test_pd = pd.DataFrame(af_test_scores)\n",
    "\n",
    "fake_test_scores = dict()\n",
    "for name in fake_feature_tables.keys():\n",
    "    fake_test_scores[name] = fake_scores[name]['test_accuracy']\n",
    "    \n",
    "fake_test_pd = pd.DataFrame(fake_test_scores)"
   ]
  },
  {
   "cell_type": "code",
   "execution_count": 35,
   "metadata": {},
   "outputs": [
    {
     "data": {
      "text/plain": [
       "0.4940239043824701"
      ]
     },
     "execution_count": 35,
     "metadata": {},
     "output_type": "execute_result"
    }
   ],
   "source": [
    "fake_trained_on_af[\"Bag-of-Words\"]"
   ]
  },
  {
   "cell_type": "markdown",
   "metadata": {},
   "source": [
    "Plot AF Graph"
   ]
  },
  {
   "cell_type": "code",
   "execution_count": 37,
   "metadata": {},
   "outputs": [
    {
     "data": {
      "image/png": "[encoded data removed]",
      "text/plain": [
       "<matplotlib.figure.Figure at 0x7f2410d69898>"
      ]
     },
     "metadata": {},
     "output_type": "display_data"
    }
   ],
   "source": [
    "fig, ax = plt.subplots(figsize=(15, 12))\n",
    "x_pos = np.arange(len(af_test_pd.columns))\n",
    "\n",
    "sorted_names = ['vagueness', 'details', 'imagination', 'deception', 'humour', 'formality',\n",
    "               'complexity', 'Hoax Set', 'Complexity + Detail', 'Selection',\n",
    "                'Bag-of-Words', 'BoW + Hoax']\n",
    "sorted_means = [af_test_pd.mean()[name] for name in sorted_names]\n",
    "sorted_stds = [af_test_pd.std()[name] for name in sorted_names]\n",
    "\n",
    "axis_labels = ['Vagueness', 'Details', 'Imagination', 'Deception', 'Humour', 'Formality', \n",
    "                'Complexity', 'Hoax Set', 'Comp + Detail', 'Selection',\n",
    "                'Bag-of-Words', 'BoW + Hoax']\n",
    "\n",
    "col_width = 0.7\n",
    "\n",
    "# cv_scores.plot.bar(ax=ax, yerr=cv_stds, capsize=10)\n",
    "ax.bar(x=x_pos, height=sorted_means, width=col_width, \n",
    "       align='center', alpha=0.5, color=\"#377eb8\")\n",
    "\n",
    "(_, caps, _) = plt.errorbar(x=x_pos, y=sorted_means, yerr=sorted_stds,\n",
    "                            capsize=15, color='#000000', fmt='x')\n",
    "for cap in caps:\n",
    "    cap.set_color('#000000')\n",
    "    cap.set_markeredgewidth(2)\n",
    "\n",
    "ax.set_xticks(x_pos)\n",
    "ax.set_xticklabels(axis_labels, rotation='vertical')\n",
    "ax.set_ylim(ymin=0.3)\n",
    "ax.set_ylabel(\"Accuracy\")\n",
    "ax.yaxis.grid(True)\n",
    "\n",
    "ax.tick_params(labelsize=20)\n",
    "ax.set_ylabel('Accuracy', fontsize=20)\n",
    "\n",
    "plt.tight_layout()\n",
    "plt.show()\n",
    "fig.savefig(\"graphs/af_results.pdf\", bbox_inches='tight')"
   ]
  },
  {
   "cell_type": "markdown",
   "metadata": {},
   "source": [
    "Plot Fake News Graph"
   ]
  },
  {
   "cell_type": "code",
   "execution_count": 38,
   "metadata": {},
   "outputs": [
    {
     "data": {
      "image/png": "[encoded data removed]",
      "text/plain": [
       "<matplotlib.figure.Figure at 0x7f2410d03470>"
      ]
     },
     "metadata": {},
     "output_type": "display_data"
    }
   ],
   "source": [
    "fig, ax = plt.subplots(figsize=(15, 12))\n",
    "x_pos = np.arange(len(af_test_pd.columns))\n",
    "\n",
    "sorted_names = ['vagueness', 'details', 'imagination', 'deception', 'humour', 'formality',\n",
    "               'complexity', 'Hoax Set', 'Complexity + Detail', 'Selection',\n",
    "                'Bag-of-Words', 'BoW + Hoax']\n",
    "sorted_means = [fake_test_pd.mean()[name] for name in sorted_names]\n",
    "sorted_stds = [fake_test_pd.std()[name] for name in sorted_names]\n",
    "sorted_af_fake = [fake_trained_on_af[name] for name in sorted_names]\n",
    "\n",
    "axis_labels = ['Vagueness', 'Details', 'Imagination', 'Deception', 'Humour', 'Formality', \n",
    "                'Complexity', 'Hoax Set', 'Comp + Detail', 'Selection',\n",
    "                'Bag-of-Words', 'BoW + Hoax']\n",
    "\n",
    "col_width = 0.35\n",
    "\n",
    "# cv_scores.plot.bar(ax=ax, yerr=cv_stds, capsize=10)\n",
    "bar1 = ax.bar(x=x_pos, height=sorted_means, width=col_width,\n",
    "       align='center', alpha=0.5, color=\"#377eb8\")\n",
    "\n",
    "bar2 = ax.bar(x=x_pos+col_width, height=sorted_af_fake, width=col_width,\n",
    "       align='center', alpha=0.5, color=\"#ff7f00\")\n",
    "\n",
    "(_, caps, _) = plt.errorbar(x=x_pos, y=sorted_means, yerr=sorted_stds,\n",
    "                            capsize=10, color='#000000', fmt='x')\n",
    "for cap in caps:\n",
    "    cap.set_color('#000000')\n",
    "    cap.set_markeredgewidth(2)\n",
    "\n",
    "ax.set_xticks(x_pos+col_width/2)\n",
    "ax.set_xticklabels(axis_labels, rotation='vertical')\n",
    "ax.set_ylim(ymin=0.3)\n",
    "ax.set_ylabel(\"Accuracy\")\n",
    "ax.yaxis.grid(True)\n",
    "\n",
    "ax.tick_params(labelsize=20)\n",
    "ax.set_ylabel('Accuracy', fontsize=20)\n",
    "\n",
    "ax.legend((bar1, bar2), (\"Trained on Fake\", \"Trained on AF\"), prop={'size': 15})\n",
    "\n",
    "plt.tight_layout()\n",
    "plt.show()\n",
    "fig.savefig(\"graphs/fake_results.pdf\", bbox_inches='tight')"
   ]
  },
  {
   "cell_type": "code",
   "execution_count": null,
   "metadata": {},
   "outputs": [],
   "source": []
  }
 ],
 "metadata": {
  "kernelspec": {
   "display_name": "Python 3",
   "language": "python",
   "name": "python3"
  },
  "language_info": {
   "codemirror_mode": {
    "name": "ipython",
    "version": 3
   },
   "file_extension": ".py",
   "mimetype": "text/x-python",
   "name": "python",
   "nbconvert_exporter": "python",
   "pygments_lexer": "ipython3",
   "version": "3.6.5"
  }
 },
 "nbformat": 4,
 "nbformat_minor": 2
}
