{
 "cells": [
  {
   "cell_type": "code",
   "execution_count": 1,
   "metadata": {},
   "outputs": [],
   "source": [
    "import pandas as pd\n",
    "import numpy as np\n",
    "import matplotlib.pyplot as plt\n",
    "\n",
    "from sklearn.linear_model import LogisticRegression\n",
    "from sklearn.preprocessing import StandardScaler\n",
    "from sklearn import metrics\n",
    "from sklearn.model_selection import cross_val_predict\n",
    "from sklearn.pipeline import Pipeline\n",
    "\n",
    "from sklearn.feature_selection import SelectKBest\n",
    "from sklearn.feature_selection import chi2, mutual_info_classif, f_classif, RFE"
   ]
  },
  {
   "cell_type": "code",
   "execution_count": 2,
   "metadata": {},
   "outputs": [],
   "source": [
    "feats = pd.read_csv(\"../System/feats_train.csv\")\n",
    "\n",
    "af = feats.loc[feats['class'] == 1]\n",
    "naf = feats.loc[feats['class'] == 0]\n",
    "\n",
    "feats.set_index('index', inplace=True)\n",
    "\n",
    "labels = feats[\"class\"]\n",
    "feats.drop('class', axis=1, inplace=True)\n",
    "\n",
    "t10_table = pd.DataFrame()\n",
    "\n",
    "K_FEATS = 5"
   ]
  },
  {
   "cell_type": "code",
   "execution_count": 3,
   "metadata": {},
   "outputs": [],
   "source": [
    "fake = pd.read_csv(\"../System/fake_news_feats_train.csv\")\n",
    "fake_labels = fake[\"class\"]\n",
    "fake.drop('class', axis=1, inplace=True)"
   ]
  },
  {
   "cell_type": "code",
   "execution_count": 4,
   "metadata": {},
   "outputs": [],
   "source": [
    "groups = [\"complexity\", \"deception\", \"details\", \"formality\"\n",
    "                  ,\"humour\", \"imagination\", \"vagueness\"]\n",
    "\n",
    "colour_map = {\"complexity\":\"C0\", \"deception\":\"C1\", \"details\":\"C2\", \"formality\":\"C3\"\n",
    "                  ,\"humour\":\"C4\", \"imagination\":\"C5\", \"vagueness\":\"C6\"}\n",
    "\n",
    "feat_group_map = dict()\n",
    "\n",
    "for g in groups:\n",
    "    with open(\"../System/feature_sets/{}.txt\".format(g)) as file:\n",
    "        for line in file:\n",
    "            if line.strip() in feats.columns:\n",
    "                feat_group_map[line.strip()] = g"
   ]
  },
  {
   "cell_type": "code",
   "execution_count": 5,
   "metadata": {},
   "outputs": [],
   "source": [
    "def classify(tab, lab):\n",
    "    classifier = LogisticRegression()\n",
    "\n",
    "    pipeline = Pipeline([\n",
    "            #('normalizer', StandardScaler()),  # Step1 - normalize data\n",
    "    #         ('normalizer', RobustScaler(quantile_range=(25, 75))),  # Step1 - normalize data\n",
    "            ('clf', classifier)  # Step2 - classifier\n",
    "            ])\n",
    "\n",
    "    predicted = cross_val_predict(pipeline, tab, lab, cv=10)\n",
    "\n",
    "    score = metrics.f1_score(lab, predicted, pos_label=1)\n",
    "    precision = metrics.average_precision_score(lab, predicted)\n",
    "    recall = metrics.recall_score(lab, predicted)\n",
    "    accuracy = metrics.accuracy_score(lab, predicted)\n",
    "\n",
    "    print(\"Precision: {}\".format(precision))\n",
    "    print(\"Recall: {}\".format(recall))\n",
    "    print(\"Accuracy: {}\".format(accuracy))\n",
    "    print(\"F1-Score: {}\".format(score))"
   ]
  },
  {
   "cell_type": "code",
   "execution_count": 6,
   "metadata": {},
   "outputs": [],
   "source": [
    "def univariate_selection(method, tab, lab, k=10):\n",
    "    best = SelectKBest(method, k)\n",
    "    best.fit_transform(tab, lab)\n",
    "    t10 = tab.loc[:, best.get_support()]\n",
    "    return t10"
   ]
  },
  {
   "cell_type": "code",
   "execution_count": 7,
   "metadata": {},
   "outputs": [],
   "source": [
    "def sort_top_10(top_10):\n",
    "    df = pd.DataFrame()\n",
    "    df['Feature'] = top_10\n",
    "    df['Group'] = df['Feature'].map(feat_group_map)\n",
    "    df = df.sort_values(by='Group')\n",
    "    return list(df['Feature'].values)"
   ]
  },
  {
   "cell_type": "code",
   "execution_count": 8,
   "metadata": {},
   "outputs": [
    {
     "name": "stdout",
     "output_type": "stream",
     "text": [
      "['lexical_diversity', 'fp_pronouns', 'ap_num', 'ap_date', 'degree_adverbs']\n",
      "\n",
      "\n",
      "Precision: 0.6058864703757225\n",
      "Recall: 0.653179190751445\n",
      "Accuracy: 0.6599229287090559\n",
      "F1-Score: 0.6576139670223083\n"
     ]
    }
   ],
   "source": [
    "t10_chi = univariate_selection(chi2, feats, labels, k=K_FEATS)\n",
    "top_10 = sort_top_10(t10_chi.columns)\n",
    "t10_table['Chi'] = top_10\n",
    "print(top_10)\n",
    "print('\\n')\n",
    "classify(t10_chi, labels)"
   ]
  },
  {
   "cell_type": "code",
   "execution_count": 9,
   "metadata": {},
   "outputs": [
    {
     "name": "stdout",
     "output_type": "stream",
     "text": [
      "['lexical_diversity', 'fp_pronouns', 'time_related', 'sense_words', 'preposition']\n",
      "\n",
      "\n",
      "Precision: 0.6183127923901601\n",
      "Recall: 0.6628131021194605\n",
      "Accuracy: 0.674373795761079\n",
      "F1-Score: 0.6705653021442495\n"
     ]
    }
   ],
   "source": [
    "t10_f = univariate_selection(f_classif, feats, labels, k=K_FEATS)\n",
    "top_10 = sort_top_10(t10_f.columns)\n",
    "t10_table['F'] = top_10\n",
    "print(top_10)\n",
    "print('\\n')\n",
    "classify(t10_f, labels)"
   ]
  },
  {
   "cell_type": "code",
   "execution_count": 10,
   "metadata": {},
   "outputs": [
    {
     "name": "stdout",
     "output_type": "stream",
     "text": [
      "['body_punctuation', 'lexical_diversity', 'fp_pronouns', 'ima_conjunctions', 'adjectives']\n",
      "\n",
      "\n",
      "Precision: 0.6147924844179495\n",
      "Recall: 0.6628131021194605\n",
      "Accuracy: 0.6705202312138728\n",
      "F1-Score: 0.6679611650485436\n"
     ]
    }
   ],
   "source": [
    "t10_info = univariate_selection(mutual_info_classif, feats, labels, k=K_FEATS)\n",
    "top_10 = sort_top_10(t10_info.columns)\n",
    "t10_table['Mutual Information'] = top_10\n",
    "print(top_10)\n",
    "print('\\n')\n",
    "classify(t10_info, labels)"
   ]
  },
  {
   "cell_type": "code",
   "execution_count": 11,
   "metadata": {},
   "outputs": [
    {
     "name": "stdout",
     "output_type": "stream",
     "text": [
      "['readability', 'lexical_diversity', 'proper_nouns', 'time_related', 'degree_adverbs']\n",
      "\n",
      "\n",
      "Precision: 0.6105763103244042\n",
      "Recall: 0.6608863198458574\n",
      "Accuracy: 0.6657032755298651\n",
      "F1-Score: 0.6640851887705712\n"
     ]
    }
   ],
   "source": [
    "rfe = RFE(estimator=LogisticRegression(), n_features_to_select=K_FEATS, step=1)\n",
    "rfe.fit(feats, labels)\n",
    "chosen = rfe.ranking_ == 1\n",
    "t10_rfe = feats.loc[:, chosen]\n",
    "top_10 = sort_top_10(t10_rfe.columns)\n",
    "t10_table['RFE'] = top_10\n",
    "print(top_10)\n",
    "print('\\n')\n",
    "classify(t10_rfe, labels)"
   ]
  },
  {
   "cell_type": "code",
   "execution_count": 12,
   "metadata": {},
   "outputs": [
    {
     "name": "stdout",
     "output_type": "stream",
     "text": [
      "['lexical_diversity', 'avg_sentence_len', 'readability', 'time_related', 'preposition']\n",
      "\n",
      "\n",
      "Precision: 0.6063275678364722\n",
      "Recall: 0.6608863198458574\n",
      "Accuracy: 0.6608863198458574\n",
      "F1-Score: 0.6608863198458574\n"
     ]
    }
   ],
   "source": [
    "CLF = LogisticRegression()\n",
    "\n",
    "pipeline = Pipeline([\n",
    "        ('normalizer', StandardScaler()),  # Step1 - normalize data\n",
    "#         ('normalizer', RobustScaler(quantile_range=(25, 75))),  # Step1 - normalize data\n",
    "        ('clf', CLF)  # Step2 - classifier\n",
    "        ])\n",
    "\n",
    "pipeline.fit(feats, labels)\n",
    "\n",
    "coeffs = CLF.coef_.ravel()\n",
    "\n",
    "rank_pd = pd.DataFrame()\n",
    "rank_pd['Weights'] = coeffs\n",
    "rank_pd['Features'] = feats.columns.values\n",
    "rank_pd['Weights'] = rank_pd['Weights'].abs()\n",
    "sorted_ranks = rank_pd.sort_values(by='Weights', ascending=False)\n",
    "chosen_columns = sorted_ranks.head(K_FEATS)['Features']\n",
    "t10_weights = feats.loc[:, chosen_columns]\n",
    "top_10 = sort_top_10(t10_weights.columns)\n",
    "t10_table['Weights'] = top_10\n",
    "\n",
    "print(top_10)\n",
    "print('\\n')\n",
    "classify(t10_weights, labels)"
   ]
  },
  {
   "cell_type": "code",
   "execution_count": 13,
   "metadata": {},
   "outputs": [
    {
     "data": {
      "text/html": [
       "<div>\n",
       "<style scoped>\n",
       "    .dataframe tbody tr th:only-of-type {\n",
       "        vertical-align: middle;\n",
       "    }\n",
       "\n",
       "    .dataframe tbody tr th {\n",
       "        vertical-align: top;\n",
       "    }\n",
       "\n",
       "    .dataframe thead th {\n",
       "        text-align: right;\n",
       "    }\n",
       "</style>\n",
       "<table border=\"1\" class=\"dataframe\">\n",
       "  <thead>\n",
       "    <tr style=\"text-align: right;\">\n",
       "      <th></th>\n",
       "      <th>Chi</th>\n",
       "      <th>F</th>\n",
       "      <th>Mutual Information</th>\n",
       "      <th>RFE</th>\n",
       "      <th>Weights</th>\n",
       "    </tr>\n",
       "  </thead>\n",
       "  <tbody>\n",
       "    <tr>\n",
       "      <th>0</th>\n",
       "      <td>lexical_diversity</td>\n",
       "      <td>lexical_diversity</td>\n",
       "      <td>body_punctuation</td>\n",
       "      <td>readability</td>\n",
       "      <td>lexical_diversity</td>\n",
       "    </tr>\n",
       "    <tr>\n",
       "      <th>1</th>\n",
       "      <td>fp_pronouns</td>\n",
       "      <td>fp_pronouns</td>\n",
       "      <td>lexical_diversity</td>\n",
       "      <td>lexical_diversity</td>\n",
       "      <td>avg_sentence_len</td>\n",
       "    </tr>\n",
       "    <tr>\n",
       "      <th>2</th>\n",
       "      <td>ap_num</td>\n",
       "      <td>time_related</td>\n",
       "      <td>fp_pronouns</td>\n",
       "      <td>proper_nouns</td>\n",
       "      <td>readability</td>\n",
       "    </tr>\n",
       "    <tr>\n",
       "      <th>3</th>\n",
       "      <td>ap_date</td>\n",
       "      <td>sense_words</td>\n",
       "      <td>ima_conjunctions</td>\n",
       "      <td>time_related</td>\n",
       "      <td>time_related</td>\n",
       "    </tr>\n",
       "    <tr>\n",
       "      <th>4</th>\n",
       "      <td>degree_adverbs</td>\n",
       "      <td>preposition</td>\n",
       "      <td>adjectives</td>\n",
       "      <td>degree_adverbs</td>\n",
       "      <td>preposition</td>\n",
       "    </tr>\n",
       "  </tbody>\n",
       "</table>\n",
       "</div>"
      ],
      "text/plain": [
       "                 Chi                  F Mutual Information                RFE  \\\n",
       "0  lexical_diversity  lexical_diversity   body_punctuation        readability   \n",
       "1        fp_pronouns        fp_pronouns  lexical_diversity  lexical_diversity   \n",
       "2             ap_num       time_related        fp_pronouns       proper_nouns   \n",
       "3            ap_date        sense_words   ima_conjunctions       time_related   \n",
       "4     degree_adverbs        preposition         adjectives     degree_adverbs   \n",
       "\n",
       "             Weights  \n",
       "0  lexical_diversity  \n",
       "1   avg_sentence_len  \n",
       "2        readability  \n",
       "3       time_related  \n",
       "4        preposition  "
      ]
     },
     "execution_count": 13,
     "metadata": {},
     "output_type": "execute_result"
    }
   ],
   "source": [
    "t10_table"
   ]
  },
  {
   "cell_type": "code",
   "execution_count": 14,
   "metadata": {},
   "outputs": [
    {
     "data": {
      "image/png": "[encoded data removed]",
      "text/plain": [
       "<matplotlib.figure.Figure at 0x7f827fecd080>"
      ]
     },
     "metadata": {},
     "output_type": "display_data"
    }
   ],
   "source": [
    "fig = plt.figure(figsize=(12, 8))\n",
    "ax = fig.add_subplot(111, frameon=True, xticks=[], yticks=[])\n",
    "\n",
    "the_table=plt.table(cellText=t10_table.values, rowLabels=t10_table.index, colLabels=t10_table.columns, \n",
    "                    loc='center')\n",
    "\n",
    "\n",
    "\n",
    "table_props = the_table.properties()\n",
    "table_cells = table_props['child_artists']\n",
    "\n",
    "for cell in table_cells:\n",
    "    txt = cell.get_text().get_text()\n",
    "    if txt in feat_group_map:\n",
    "        group = feat_group_map[txt]\n",
    "        colour = colour_map[group]\n",
    "        cell.set_color(colour)\n",
    "        \n",
    "fig.savefig(\"top_5_table.pdf\", bbox_inches='tight')"
   ]
  },
  {
   "cell_type": "code",
   "execution_count": 15,
   "metadata": {},
   "outputs": [
    {
     "name": "stdout",
     "output_type": "stream",
     "text": [
      "Precision: 0.6292771900964914\n",
      "Recall: 0.674373795761079\n",
      "Accuracy: 0.6868978805394991\n",
      "F1-Score: 0.6829268292682927\n",
      "\\begin{tabular}{lll}\n",
      "\\toprule\n",
      "{} &              Feats &        Group \\\\\n",
      "\\midrule\n",
      "0  &   body\\_punctuation &   complexity \\\\\n",
      "1  &   avg\\_sentence\\_len &   complexity \\\\\n",
      "2  &  lexical\\_diversity &   complexity \\\\\n",
      "3  &        readability &   complexity \\\\\n",
      "4  &        fp\\_pronouns &    deception \\\\\n",
      "5  &       time\\_related &      details \\\\\n",
      "6  &        sense\\_words &      details \\\\\n",
      "7  &       proper\\_nouns &      details \\\\\n",
      "8  &            ap\\_date &    formality \\\\\n",
      "9  &             ap\\_num &    formality \\\\\n",
      "10 &        preposition &  imagination \\\\\n",
      "11 &         adjectives &  imagination \\\\\n",
      "12 &   ima\\_conjunctions &  imagination \\\\\n",
      "13 &     degree\\_adverbs &    vagueness \\\\\n",
      "\\bottomrule\n",
      "\\end{tabular}\n",
      "\n"
     ]
    }
   ],
   "source": [
    "top_names = list(set(t10_table.values.ravel()))\n",
    "pd_top_names = pd.DataFrame()\n",
    "pd_top_names['Feats'] = sort_top_10(top_names)\n",
    "pd_top_names['Group'] = pd_top_names['Feats'].map(feat_group_map)\n",
    "\n",
    "top_feats = feats.loc[:, top_names]\n",
    "classify(top_feats, labels)\n",
    "\n",
    "print(pd_top_names.to_latex())\n",
    "\n",
    "with open(\"../System/feature_sets/fs_t{}\".format(K_FEATS), 'w') as file:\n",
    "    for f in pd_top_names['Feats']:\n",
    "        file.write(\"{}\\n\".format(f))"
   ]
  },
  {
   "cell_type": "code",
   "execution_count": 16,
   "metadata": {},
   "outputs": [
    {
     "name": "stdout",
     "output_type": "stream",
     "text": [
      "(1038, 6)\n",
      "\n",
      "Precision: 0.6227846680509568\n",
      "Recall: 0.6763005780346821\n",
      "Accuracy: 0.6801541425818882\n",
      "F1-Score: 0.6789168278529981\n"
     ]
    }
   ],
   "source": [
    "pd_top = pd.DataFrame()\n",
    "pd_top['Feats'] = t10_table.values.ravel()\n",
    "top_counts = pd_top.groupby(pd_top.Feats).size()\n",
    "top_counts = pd.DataFrame(top_counts)\n",
    "top_counts = top_counts.loc[top_counts[0] > 1]\n",
    "\n",
    "top_feats = feats.loc[:, top_counts.index.values]\n",
    "print(\"{}\\n\".format(top_feats.shape))\n",
    "classify(top_feats, labels)"
   ]
  },
  {
   "cell_type": "code",
   "execution_count": 17,
   "metadata": {},
   "outputs": [
    {
     "data": {
      "text/html": [
       "<div>\n",
       "<style scoped>\n",
       "    .dataframe tbody tr th:only-of-type {\n",
       "        vertical-align: middle;\n",
       "    }\n",
       "\n",
       "    .dataframe tbody tr th {\n",
       "        vertical-align: top;\n",
       "    }\n",
       "\n",
       "    .dataframe thead th {\n",
       "        text-align: right;\n",
       "    }\n",
       "</style>\n",
       "<table border=\"1\" class=\"dataframe\">\n",
       "  <thead>\n",
       "    <tr style=\"text-align: right;\">\n",
       "      <th></th>\n",
       "      <th>Feats</th>\n",
       "      <th>Group</th>\n",
       "    </tr>\n",
       "  </thead>\n",
       "  <tbody>\n",
       "    <tr>\n",
       "      <th>0</th>\n",
       "      <td>lexical_diversity</td>\n",
       "      <td>complexity</td>\n",
       "    </tr>\n",
       "    <tr>\n",
       "      <th>1</th>\n",
       "      <td>readability</td>\n",
       "      <td>complexity</td>\n",
       "    </tr>\n",
       "    <tr>\n",
       "      <th>2</th>\n",
       "      <td>fp_pronouns</td>\n",
       "      <td>deception</td>\n",
       "    </tr>\n",
       "    <tr>\n",
       "      <th>3</th>\n",
       "      <td>time_related</td>\n",
       "      <td>details</td>\n",
       "    </tr>\n",
       "    <tr>\n",
       "      <th>4</th>\n",
       "      <td>preposition</td>\n",
       "      <td>imagination</td>\n",
       "    </tr>\n",
       "    <tr>\n",
       "      <th>5</th>\n",
       "      <td>degree_adverbs</td>\n",
       "      <td>vagueness</td>\n",
       "    </tr>\n",
       "  </tbody>\n",
       "</table>\n",
       "</div>"
      ],
      "text/plain": [
       "               Feats        Group\n",
       "0  lexical_diversity   complexity\n",
       "1        readability   complexity\n",
       "2        fp_pronouns    deception\n",
       "3       time_related      details\n",
       "4        preposition  imagination\n",
       "5     degree_adverbs    vagueness"
      ]
     },
     "execution_count": 17,
     "metadata": {},
     "output_type": "execute_result"
    }
   ],
   "source": [
    "o2_names = top_counts.index.values\n",
    "pd_o2_names = pd.DataFrame()\n",
    "pd_o2_names['Feats'] = sort_top_10(o2_names)\n",
    "pd_o2_names['Group'] = pd_o2_names['Feats'].map(feat_group_map)\n",
    "\n",
    "pd_o2_names"
   ]
  },
  {
   "cell_type": "code",
   "execution_count": 18,
   "metadata": {},
   "outputs": [
    {
     "data": {
      "text/plain": [
       "Group\n",
       "complexity     2\n",
       "deception      1\n",
       "details        1\n",
       "imagination    1\n",
       "vagueness      1\n",
       "dtype: int64"
      ]
     },
     "execution_count": 18,
     "metadata": {},
     "output_type": "execute_result"
    }
   ],
   "source": [
    "pd_top_names = pd.DataFrame()\n",
    "pd_top_names['Feats'] = sort_top_10(top_counts.index.values)\n",
    "pd_top_names['Group'] = pd_top_names['Feats'].map(feat_group_map)\n",
    "\n",
    "pd_top_names.groupby(by='Group').size()"
   ]
  },
  {
   "cell_type": "code",
   "execution_count": 19,
   "metadata": {},
   "outputs": [
    {
     "name": "stdout",
     "output_type": "stream",
     "text": [
      "Precision: 0.6277403579236044\n",
      "Recall: 0.6504065040650406\n",
      "Accuracy: 0.6932270916334662\n",
      "F1-Score: 0.6751054852320675\n"
     ]
    }
   ],
   "source": [
    "top_fake = fake.loc[:, top_counts.index.values]\n",
    "classify(top_fake, fake_labels)"
   ]
  }
 ],
 "metadata": {
  "kernelspec": {
   "display_name": "Python 3",
   "language": "python",
   "name": "python3"
  },
  "language_info": {
   "codemirror_mode": {
    "name": "ipython",
    "version": 3
   },
   "file_extension": ".py",
   "mimetype": "text/x-python",
   "name": "python",
   "nbconvert_exporter": "python",
   "pygments_lexer": "ipython3",
   "version": "3.6.5"
  }
 },
 "nbformat": 4,
 "nbformat_minor": 2
}
